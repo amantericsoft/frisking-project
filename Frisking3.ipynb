{
  "nbformat": 4,
  "nbformat_minor": 0,
  "metadata": {
    "colab": {
      "name": "Frisking3.ipynb",
      "provenance": [],
      "collapsed_sections": [
        "XldbQwP4itmk"
      ],
      "authorship_tag": "ABX9TyN3dGs5jrslJe3BWeGxwhkJ",
      "include_colab_link": true
    },
    "kernelspec": {
      "display_name": "Python 3",
      "name": "python3"
    },
    "language_info": {
      "name": "python"
    }
  },
  "cells": [
    {
      "cell_type": "markdown",
      "metadata": {
        "id": "view-in-github",
        "colab_type": "text"
      },
      "source": [
        "<a href=\"https://colab.research.google.com/github/amantericsoft/frisking-project/blob/main/Frisking3.ipynb\" target=\"_parent\"><img src=\"https://colab.research.google.com/assets/colab-badge.svg\" alt=\"Open In Colab\"/></a>"
      ]
    },
    {
      "cell_type": "code",
      "metadata": {
        "id": "EddGQ4YW_Lii"
      },
      "source": [
        ""
      ],
      "execution_count": null,
      "outputs": []
    },
    {
      "cell_type": "code",
      "metadata": {
        "id": "O_xuNWzv1hUK"
      },
      "source": [
        "import math\n",
        "import cv2\n",
        "import numpy as np\n",
        "from time import time\n",
        "import mediapipe as mp\n",
        "import matplotlib.pyplot as plt\n",
        "import glob"
      ],
      "execution_count": null,
      "outputs": []
    },
    {
      "cell_type": "code",
      "metadata": {
        "colab": {
          "base_uri": "https://localhost:8080/"
        },
        "id": "SHfb8haV0fHE",
        "outputId": "2548c092-d414-4b9b-cea2-7b454e916b41"
      },
      "source": [
        "!pip install mediapipe"
      ],
      "execution_count": null,
      "outputs": [
        {
          "output_type": "stream",
          "name": "stdout",
          "text": [
            "Collecting mediapipe\n",
            "  Downloading mediapipe-0.8.8-cp37-cp37m-manylinux_2_17_x86_64.manylinux2014_x86_64.whl (30.1 MB)\n",
            "\u001b[K     |████████████████████████████████| 30.1 MB 13 kB/s \n",
            "\u001b[?25hRequirement already satisfied: absl-py in /usr/local/lib/python3.7/dist-packages (from mediapipe) (0.12.0)\n",
            "Requirement already satisfied: wheel in /usr/local/lib/python3.7/dist-packages (from mediapipe) (0.37.0)\n",
            "Requirement already satisfied: attrs>=19.1.0 in /usr/local/lib/python3.7/dist-packages (from mediapipe) (21.2.0)\n",
            "Requirement already satisfied: numpy in /usr/local/lib/python3.7/dist-packages (from mediapipe) (1.19.5)\n",
            "Requirement already satisfied: six in /usr/local/lib/python3.7/dist-packages (from mediapipe) (1.15.0)\n",
            "Requirement already satisfied: opencv-contrib-python in /usr/local/lib/python3.7/dist-packages (from mediapipe) (4.1.2.30)\n",
            "Requirement already satisfied: matplotlib in /usr/local/lib/python3.7/dist-packages (from mediapipe) (3.2.2)\n",
            "Requirement already satisfied: protobuf>=3.11.4 in /usr/local/lib/python3.7/dist-packages (from mediapipe) (3.17.3)\n",
            "Requirement already satisfied: cycler>=0.10 in /usr/local/lib/python3.7/dist-packages (from matplotlib->mediapipe) (0.10.0)\n",
            "Requirement already satisfied: kiwisolver>=1.0.1 in /usr/local/lib/python3.7/dist-packages (from matplotlib->mediapipe) (1.3.2)\n",
            "Requirement already satisfied: pyparsing!=2.0.4,!=2.1.2,!=2.1.6,>=2.0.1 in /usr/local/lib/python3.7/dist-packages (from matplotlib->mediapipe) (2.4.7)\n",
            "Requirement already satisfied: python-dateutil>=2.1 in /usr/local/lib/python3.7/dist-packages (from matplotlib->mediapipe) (2.8.2)\n",
            "Installing collected packages: mediapipe\n",
            "Successfully installed mediapipe-0.8.8\n"
          ]
        }
      ]
    },
    {
      "cell_type": "code",
      "metadata": {
        "id": "6PS31OiRjPia"
      },
      "source": [
        ""
      ],
      "execution_count": null,
      "outputs": []
    },
    {
      "cell_type": "code",
      "metadata": {
        "colab": {
          "base_uri": "https://localhost:8080/"
        },
        "id": "4AT-GmLk14GC",
        "outputId": "7541add8-6a57-48cb-aa13-07ff471f605d"
      },
      "source": [
        "# Initializing mediapipe pose class.\n",
        "mp_pose = mp.solutions.pose\n",
        "\n",
        "# Setting up the Pose function.\n",
        "pose = mp_pose.Pose(static_image_mode=True, min_detection_confidence=0.3, model_complexity=2)\n",
        "\n",
        "# Initializing mediapipe drawing class, useful for annotation.\n",
        "mp_drawing = mp.solutions.drawing_utils "
      ],
      "execution_count": null,
      "outputs": [
        {
          "output_type": "stream",
          "name": "stdout",
          "text": [
            "Downloading model to /usr/local/lib/python3.7/dist-packages/mediapipe/modules/pose_landmark/pose_landmark_heavy.tflite\n"
          ]
        }
      ]
    },
    {
      "cell_type": "code",
      "metadata": {
        "id": "nPJWMzFA6BxB"
      },
      "source": [
        "def detectPose(image, pose, display=True):\n",
        "    '''\n",
        "    This function performs pose detection on an image.\n",
        "    Args:\n",
        "        image: The input image with a prominent person whose pose landmarks needs to be detected.\n",
        "        pose: The pose setup function required to perform the pose detection.\n",
        "        display: A boolean value that is if set to true the function displays the original input image, the resultant image, \n",
        "                 and the pose landmarks in 3D plot and returns nothing.\n",
        "    Returns:\n",
        "        output_image: The input image with the detected pose landmarks drawn.\n",
        "        landmarks: A list of detected landmarks converted into their original scale.\n",
        "    '''\n",
        "    \n",
        "    # Create a copy of the input image.\n",
        "    output_image = image.copy()\n",
        "    \n",
        "    # Convert the image from BGR into RGB format.\n",
        "    imageRGB = cv2.cvtColor(image, cv2.COLOR_BGR2RGB)\n",
        "    \n",
        "    # Perform the Pose Detection.\n",
        "    results = pose.process(imageRGB)\n",
        "    \n",
        "    # Retrieve the height and width of the input image.\n",
        "    height, width, _ = image.shape\n",
        "    \n",
        "    # Initialize a list to store the detected landmarks.\n",
        "    landmarks = []\n",
        "    \n",
        "    # Check if any landmarks are detected.\n",
        "    if results.pose_landmarks:\n",
        "    \n",
        "        # Draw Pose landmarks on the output image.\n",
        "        mp_drawing.draw_landmarks(image=output_image, landmark_list=results.pose_landmarks,\n",
        "                                  connections=mp_pose.POSE_CONNECTIONS)\n",
        "        \n",
        "        # Iterate over the detected landmarks.\n",
        "        for landmark in results.pose_landmarks.landmark:\n",
        "            \n",
        "            # Append the landmark into the list.\n",
        "            landmarks.append((int(landmark.x * width), int(landmark.y * height),\n",
        "                                  (landmark.z * width)))\n",
        "    \n",
        "    # Check if the original input image and the resultant image are specified to be displayed.\n",
        "    if display:\n",
        "    \n",
        "        # Display the original input image and the resultant image.\n",
        "        plt.figure(figsize=[5,5])\n",
        "        #plt.subplot(111);plt.imshow(image[:,:,::-1]);plt.title(\"Original Image\");plt.axis('off');\n",
        "        plt.subplot(111);plt.imshow(output_image[:,:,::-1]);plt.title(\"Output Image\");plt.axis('off');\n",
        "        \n",
        "        # Also Plot the Pose landmarks in 3D.\n",
        "        #mp_drawing.plot_landmarks(results.pose_world_landmarks, mp_pose.POSE_CONNECTIONS)\n",
        "        return output_image, landmarks\n",
        "        \n",
        "    # Otherwise\n",
        "    else:\n",
        "        \n",
        "        # Return the output image and the found landmarks.\n",
        "        return output_image, landmarks"
      ],
      "execution_count": null,
      "outputs": []
    },
    {
      "cell_type": "code",
      "metadata": {
        "id": "AvPwusYbcg44"
      },
      "source": [
        "def getHandCoordinate(black_image):\n",
        "    hand_coordinate = []\n",
        "    for i in range(black_image.shape[0]):\n",
        "        for j in range(black_image.shape[1]):\n",
        "\n",
        "            if black_image[i][j] == 255:\n",
        "                hand_coordinate.append([i, j, 0])\n",
        "\n",
        "    return hand_coordinate            \n"
      ],
      "execution_count": null,
      "outputs": []
    },
    {
      "cell_type": "code",
      "metadata": {
        "id": "u-MlQFmhgk1Q"
      },
      "source": [
        "def checkPixelPresent(hand_coordinate, labels_path):\n",
        "\n",
        "      labels_path_list = glob.glob(labels_path)\n",
        "      copy_hand_coordinate = hand_coordinate\n",
        "      for label_path in labels_path_list:\n",
        "          label_file = open(label_path,\"r\")\n",
        "          label = label_file.readline()[:-1].split(\",\")  # label is like ['Detector', '627', '545', '210', '175']\n",
        "          x1 = int(label[1]); y1 = int(label[2])\n",
        "          x2 = int(label[1])+int(label[3]); y2 = int(label[2])\n",
        "          x3 = int(label[1]); y3 = int(label[2])+int(label[4])\n",
        "          x4 = int(label[1])+int(label[3]); y4 = int(label[2])+int(label[4])\n",
        "\n",
        "          idx = 0  \n",
        "          \n",
        "          while(len(hand_coordinate) > 0 and idx < len(hand_coordinate)):\n",
        "              \n",
        "              coordinate =  hand_coordinate[idx] \n",
        "              if coordinate[0] > x1 and coordinate[0] < x2 and coordinate[1] > y1 and coordinate[1] < y3:\n",
        "                  \n",
        "                  hand_coordinate[idx][2] = 1     \n",
        "\n",
        "              idx += 1    \n",
        "\n",
        "      return hand_coordinate"
      ],
      "execution_count": null,
      "outputs": []
    },
    {
      "cell_type": "code",
      "metadata": {
        "id": "-ZUyMTu3iV_r"
      },
      "source": [
        "def ColoringVisitedAndUnvisited(image, hand_coordinate):\n",
        "    count_green = 0\n",
        "    count_red = 0\n",
        "    for coordinate in hand_coordinate:\n",
        "        \n",
        "        if coordinate[2] == 1:\n",
        "            image[coordinate[0]][coordinate[1]] = [0, 255, 0]\n",
        "            count_green += 1\n",
        "        if coordinate[2] == 0:\n",
        "            image[coordinate[0]][coordinate[1]] = [0, 0, 255] \n",
        "            count_red += 1   \n",
        "    accuracy = count_green / (count_green+count_red)  \n",
        "\n",
        "    return image, accuracy       "
      ],
      "execution_count": null,
      "outputs": []
    },
    {
      "cell_type": "code",
      "metadata": {
        "id": "WR5cXPGJ4TvI"
      },
      "source": [
        "# define a video capture object\n",
        "video_path = \"/content/Frisking/moving left hand.mp4\"\n",
        "labels_path = \"/content/Frisking/Labels/*\""
      ],
      "execution_count": null,
      "outputs": []
    },
    {
      "cell_type": "code",
      "metadata": {
        "id": "zvwdvHPA4UEO"
      },
      "source": [
        "labels_path_list = glob.glob(labels_path)\n",
        "labels_path_list = sorted(labels_path_list)"
      ],
      "execution_count": null,
      "outputs": []
    },
    {
      "cell_type": "code",
      "metadata": {
        "colab": {
          "base_uri": "https://localhost:8080/",
          "height": 35
        },
        "id": "N-wlhfcYGarG",
        "outputId": "5089030a-aefd-42da-ebcf-78b403691d1b"
      },
      "source": [
        "labels_path_list[0]"
      ],
      "execution_count": null,
      "outputs": [
        {
          "data": {
            "application/vnd.google.colaboratory.intrinsic+json": {
              "type": "string"
            },
            "text/plain": [
              "'/content/Frisking/Labels/00000026.txt'"
            ]
          },
          "execution_count": 35,
          "metadata": {},
          "output_type": "execute_result"
        }
      ]
    },
    {
      "cell_type": "code",
      "metadata": {
        "colab": {
          "base_uri": "https://localhost:8080/",
          "height": 35
        },
        "id": "NL_oOFwi_f3y",
        "outputId": "fbda03ba-ba26-45d8-ebc0-0a83aace45d5"
      },
      "source": [
        "labels_path_list[0][-12:-4]"
      ],
      "execution_count": null,
      "outputs": [
        {
          "data": {
            "application/vnd.google.colaboratory.intrinsic+json": {
              "type": "string"
            },
            "text/plain": [
              "'00000026'"
            ]
          },
          "execution_count": 34,
          "metadata": {},
          "output_type": "execute_result"
        }
      ]
    },
    {
      "cell_type": "code",
      "metadata": {
        "id": "_XCqPVjBMWF9"
      },
      "source": [
        ""
      ],
      "execution_count": null,
      "outputs": []
    },
    {
      "cell_type": "code",
      "metadata": {
        "id": "2EqdewucMWJQ"
      },
      "source": [
        "def getSkeleton(black_image, landmarks, mp_pose):\n",
        "\n",
        "    left_shoulder = landmarks[mp_pose.PoseLandmark.LEFT_SHOULDER.value]\n",
        "    left_elbow = landmarks[mp_pose.PoseLandmark.LEFT_ELBOW.value]\n",
        "    left_wrist = landmarks[mp_pose.PoseLandmark.LEFT_WRIST.value]\n",
        "\n",
        "\n",
        "    skeleton_image = cv2.circle(black_image, (left_shoulder[0], left_shoulder[1]), 10, (255,0,0), -1)\n",
        "    skeleton_image = cv2.circle(skeleton_image, (left_elbow[0], left_elbow[1]), 10, (255,0,0), -1)\n",
        "    skeleton_image = cv2.circle(skeleton_image, (left_wrist[0], left_wrist[1]), 10, (255,0,0), -1)\n",
        "\n",
        "    skeleton_image = cv2.line(skeleton_image, (left_shoulder[0], left_shoulder[1]), (left_elbow[0], left_elbow[1]), (255,0,0), 8)\n",
        "    skeleton_image = cv2.line(skeleton_image, (left_elbow[0], left_elbow[1]), (left_wrist[0], left_wrist[1]), (255,0,0), 8)\n",
        "\n",
        "\n",
        "    return skeleton_image"
      ],
      "execution_count": null,
      "outputs": []
    },
    {
      "cell_type": "code",
      "metadata": {
        "id": "S_OTSpzJSDMs"
      },
      "source": [
        "def getDetectorPosition(black_image, detector_frame_path):\n",
        "  \n",
        "    label_file = open(detector_frame_path,\"r\")\n",
        "    label = label_file.readline()[:-1].split(\",\")  # label is like ['Detector', '627', '545', '210', '175']\n",
        "    x1 = int(label[1]); y1 = int(label[2])\n",
        "    x2 = int(label[1])+int(label[3]); y2 = int(label[2])\n",
        "    x3 = int(label[1]); y3 = int(label[2])+int(label[4])\n",
        "    x4 = int(label[1])+int(label[3]); y4 = int(label[2])+int(label[4])\n",
        "\n",
        "    detector_image = cv2.rectangle(black_image, (x1, y1), (x4, y4), (255, 0, 0), -1)\n",
        "\n",
        "    return detector_image      \n"
      ],
      "execution_count": null,
      "outputs": []
    },
    {
      "cell_type": "code",
      "metadata": {
        "id": "5aZlSmN5MWMP"
      },
      "source": [
        "def getOverlapCoordinates(keypoint1, keypoint2, detector_coordinates):\n",
        "\n",
        "    x1_detector =  detector_coordinates[0]\n",
        "    y1_detector = detector_coordinates[1]\n",
        "    detector_width = detector_coordinates[2]\n",
        "    detector_height = detector_coordinates[3]\n",
        "\n",
        "\n",
        "    x_diff = keypoint2[0] - keypoint1[0]\n",
        "    y_diff = keypoint2[1] - keypoint1[1]\n",
        "\n",
        "    if abs(x_diff) > abs(y_diff):\n",
        "        max_diff = abs(x_diff)\n",
        "    else:\n",
        "        max_diff = abs(y_diff)  \n",
        "\n",
        "    x_change = x_diff/max_diff\n",
        "    y_change = y_diff/max_diff    \n",
        "\n",
        "    x1 = keypoint1[0]; y1 = keypoint1[1]\n",
        "    x2 = keypoint2[0]; y2 = keypoint2[1]\n",
        "    overlap_coordinates = []\n",
        "\n",
        "    #print(f\"x chnage : {x_change} and x change : {y_change}\")\n",
        "    #print(f\"detector_x : {x1_detector} and detector_x_width : {x1_detector+detector_width}\")\n",
        "    #print(f\"detector_y : {y1_detector} and detector_y_width : {y1_detector+detector_height}\")\n",
        "\n",
        "    start_found = \"false\"\n",
        "\n",
        "    for i in range(max_diff+1):  \n",
        "\n",
        "            #print(f\"(x1, y1) : ({int(x1)}, {int(y1)})\")\n",
        "\n",
        "            if (int(x1) > x1_detector or int(x1) == x1_detector) and  (int(x1) < (x1_detector+detector_width) or int(x1) == (x1_detector+detector_width)):\n",
        "                if (int(y1) > y1_detector or int(y1) == y1_detector) and  (int(y1) < (y1_detector+detector_height) or int(y1) == (y1_detector+detector_height)):\n",
        "\n",
        "                    if start_found == \"false\":\n",
        "                        overlap_start = i\n",
        "                        start_found = \"true\"\n",
        "\n",
        "                    overlap_end = i    \n",
        "                    overlap_coordinates.append([x1, y1])\n",
        "\n",
        "            x1 += x_change\n",
        "            y1 += y_change\n",
        "\n",
        "    #p1 = [overlap_coordinates[0][0], overlap_coordinates[0][1]]\n",
        "    #p2 = [overlap_coordinates[-1][0], overlap_coordinates[-1][1]]\n",
        "\n",
        "    #print(f\"Overlap coordinates : {overlap_coordinates}\")\n",
        "    #print(f\"keypoint1 : {keypoint1}\")\n",
        "    #print(f\"keypoint2 : {keypoint2}\")\n",
        "    #print(f\"p1 : {p1}\")\n",
        "    #print(f\"p2 : {p2}\")\n",
        "\n",
        "    overlap_start /= max_diff\n",
        "    overlap_end /= max_diff\n",
        "\n",
        "    \n",
        "    #distance_between_keypoints = math.sqrt( ((keypoint2[0]-keypoint1[0])**2)+((keypoint2[1]-keypoint1[1])**2) )\n",
        "    #overlap_start =  math.sqrt( ((p1[0]-keypoint1[0])**2)+((p1[1]-keypoint1[1])**2) ) /  distance_between_keypoints   \n",
        "    #overlap_end =  math.sqrt( ((p2[0]-keypoint1[0])**2)+((p2[1]-keypoint1[1])**2) )  / distance_between_keypoints \n",
        "\n",
        "    #print(f\"overlap start : {overlap_start}\")\n",
        "    #print(f\"overlap end : {overlap_end}\")\n",
        "\n",
        "\n",
        "    return overlap_coordinates, overlap_start, overlap_end"
      ],
      "execution_count": null,
      "outputs": []
    },
    {
      "cell_type": "code",
      "metadata": {
        "id": "BlnVmhN5SNWR"
      },
      "source": [
        ""
      ],
      "execution_count": null,
      "outputs": []
    },
    {
      "cell_type": "code",
      "metadata": {
        "id": "lLZHLyjXSNes"
      },
      "source": [
        "\n"
      ],
      "execution_count": null,
      "outputs": []
    },
    {
      "cell_type": "code",
      "metadata": {
        "id": "PzYTweibSh6T"
      },
      "source": [
        ""
      ],
      "execution_count": null,
      "outputs": []
    },
    {
      "cell_type": "code",
      "metadata": {
        "id": "2_rJw-hhT32a"
      },
      "source": [
        "def detectPose(image, black_image, pose, display=True):\n",
        "    '''\n",
        "    This function performs pose detection on an image.\n",
        "    Args:\n",
        "        image: The input image with a prominent person whose pose landmarks needs to be detected.\n",
        "        pose: The pose setup function required to perform the pose detection.\n",
        "        display: A boolean value that is if set to true the function displays the original input image, the resultant image, \n",
        "                 and the pose landmarks in 3D plot and returns nothing.\n",
        "    Returns:\n",
        "        output_image: The input image with the detected pose landmarks drawn.\n",
        "        landmarks: A list of detected landmarks converted into their original scale.\n",
        "    '''\n",
        "    \n",
        "    # Create a copy of the input image.\n",
        "    output_image = image.copy()\n",
        "    \n",
        "    # Convert the image from BGR into RGB format.\n",
        "    imageRGB = cv2.cvtColor(image, cv2.COLOR_BGR2RGB)\n",
        "    \n",
        "    # Perform the Pose Detection.\n",
        "    results = pose.process(imageRGB)\n",
        "    \n",
        "    # Retrieve the height and width of the input image.\n",
        "    height, width, _ = image.shape\n",
        "    \n",
        "    # Initialize a list to store the detected landmarks.\n",
        "    landmarks = []\n",
        "\n",
        "    output_image = black_image\n",
        "    \n",
        "    # Check if any landmarks are detected.\n",
        "    if results.pose_landmarks:\n",
        "    \n",
        "        # Draw Pose landmarks on the output image.\n",
        "        mp_drawing.print(f\"1. overlap start : {overlap_start} and overlap end : {overlap_end}\")(image=output_image, landmark_list=results.pose_landmarks,\n",
        "                                  connections=mp_pose.POSE_CONNECTIONS)\n",
        "        \n",
        "        # Iterate over the detected landmarks.\n",
        "        for landmark in results.pose_landmarks.landmark:\n",
        "            \n",
        "            # Append the landmark into the list.\n",
        "            landmarks.append((int(landmark.x * width), int(landmark.y * height),\n",
        "                                  (landmark.z * width)))\n",
        "    \n",
        "    # Check if the original input image and the resultant image are specified to be displayed.\n",
        "    if display:\n",
        "    \n",
        "        # Display the original input image and the resultant image.\n",
        "        plt.figure(figsize=[10,10])\n",
        "        #plt.subplot(111);plt.imshow(image[:,:,::-1]);plt.title(\"Original Image\");plt.axis('off');\n",
        "        plt.subplot(111);plt.imshow(output_image[:,:,::-1]);plt.title(\"Output Image\");plt.axis('off');\n",
        "        \n",
        "        # Also Plot the Pose landmarks in 3D.\n",
        "        #mp_drawing.plot_landmarks(results.pose_world_landmarks, mp_pose.POSE_CONNECTIONS)\n",
        "        return output_image, landmarks\n",
        "        \n",
        "    # Otherwise\n",
        "    else:\n",
        "        \n",
        "        # Return the output image and the found landmarks.\n",
        "        return output_image, landmarks"
      ],
      "execution_count": null,
      "outputs": []
    },
    {
      "cell_type": "code",
      "metadata": {
        "id": "7JYZdnP2s0wC"
      },
      "source": [
        "def getColoringOfSkeleton(black_image, keypoint1, keypoint2):\n",
        "    \n",
        "    x_diff = keypoint2[0] - keypoint1[0]\n",
        "    y_diff = keypoint2[1] - keypoint1[1]\n",
        "\n",
        "    if abs(x_diff) > abs(y_diff):\n",
        "        max_diff = abs(x_diff)\n",
        "    else:\n",
        "        max_diff = abs(y_diff)  \n",
        "\n",
        "    x_change = x_diff/max_diff\n",
        "    y_change = y_diff/max_diff    \n",
        "\n",
        "    #print(\"(x diff, y1 diff)\", x_diff, y_diff)\n",
        "    #print(\"x change\", x_change)\n",
        "    #print(\"y change\", y_change)\n",
        "    #print(\"max diff\", max_diff)\n",
        "\n",
        "\n",
        "    x1 = keypoint1[0]; y1 = keypoint1[1]\n",
        "    x2 = keypoint2[0]; y2 = keypoint2[1]\n",
        "    #x2 = keypoint2[0] + abs(x_change)/x_change; y2 = keypoint2[1] + abs(y_change)/y_change\n",
        "\n",
        "\n",
        "    #print(\"(x1, y1)\", x1, y1)\n",
        "    #print(\"(x2, y2)\", x2, y2)\n",
        "    #print(x_change)\n",
        "    #print(y_change)\n",
        "    #print(\"max diff\", max_diff)\n",
        "\n",
        "    #while( int(x1) != x2 and int(y1) != y2 ):\n",
        "    for i in range(max_diff):  \n",
        "            \n",
        "            black_image[int(y1)][int(x1)] = [0, 0, 255]            \n",
        "            x1 += x_change    \n",
        "            y1 += y_change\n",
        "\n",
        "\n",
        "    return black_image        "
      ],
      "execution_count": null,
      "outputs": []
    },
    {
      "cell_type": "code",
      "metadata": {
        "id": "cD5W_c4zpynd"
      },
      "source": [
        "def getFullBodySkeleton(black_image, mp_pose, landmarks):\n",
        "\n",
        "    left_shoulder_point = landmarks[mp_pose.PoseLandmark.LEFT_SHOULDER.value]\n",
        "    right_shoulder_point = landmarks[mp_pose.PoseLandmark.RIGHT_SHOULDER.value]\n",
        "    left_hip_point = landmarks[mp_pose.PoseLandmark.LEFT_HIP.value]\n",
        "    right_hip_point = landmarks[mp_pose.PoseLandmark.RIGHT_HIP.value]\n",
        "    left_elbow_point = landmarks[mp_pose.PoseLandmark.LEFT_ELBOW.value]\n",
        "    left_wrist_point = landmarks[mp_pose.PoseLandmark.LEFT_WRIST.value]\n",
        "\n",
        "    left_shoulder_point = landmarks[mp_pose.PoseLandmark.LEFT_SHOULDER.value]\n",
        "    right_shoulder_point = landmarks[mp_pose.PoseLandmark.RIGHT_SHOULDER.value]\n",
        "    left_elbow_point = landmarks[mp_pose.PoseLandmark.LEFT_ELBOW.value]\n",
        "    right_elbow_point = landmarks[mp_pose.PoseLandmark.RIGHT_ELBOW.value]\n",
        "    left_wrist_point = landmarks[mp_pose.PoseLandmark.LEFT_WRIST.value]\n",
        "    right_wrist_point = landmarks[mp_pose.PoseLandmark.RIGHT_WRIST.value]\n",
        "    left_hip_point = landmarks[mp_pose.PoseLandmark.LEFT_HIP.value]\n",
        "    right_hip_point = landmarks[mp_pose.PoseLandmark.RIGHT_HIP.value]\n",
        "    left_knee_point = landmarks[mp_pose.PoseLandmark.LEFT_KNEE.value]\n",
        "    right_knee_point = landmarks[mp_pose.PoseLandmark.RIGHT_KNEE.value]\n",
        "    left_ankle_point = landmarks[mp_pose.PoseLandmark.LEFT_ANKLE.value]\n",
        "    right_ankle_point = landmarks[mp_pose.PoseLandmark.RIGHT_ANKLE.value]\n",
        "\n",
        "\n",
        "    black_image = cv2.circle(black_image, (left_shoulder_point[0], left_shoulder_point[1]), 3, (0,0,255), -1)\n",
        "    black_image = cv2.circle(black_image, (left_elbow_point[0], left_elbow_point[1]), 3, (0,0,255), -1)\n",
        "    black_image = cv2.circle(black_image, (left_wrist_point[0], left_wrist_point[1]), 3, (0,0,255), -1)\n",
        "\n",
        "    black_image = cv2.circle(black_image, (right_shoulder_point[0], right_shoulder_point[1]), 3, (0,0,255), -1)\n",
        "    black_image = cv2.circle(black_image, (right_elbow_point[0], right_elbow_point[1]), 3, (0,0,255), -1)\n",
        "    black_image = cv2.circle(black_image, (right_wrist_point[0], right_wrist_point[1]), 3, (0,0,255), -1)\n",
        "\n",
        "    black_image = cv2.circle(black_image, (left_hip_point[0], left_hip_point[1]), 3, (0,0,255), -1)\n",
        "    black_image = cv2.circle(black_image, (right_hip_point[0], right_hip_point[1]), 3, (0,0,255), -1)\n",
        "\n",
        "    black_image = cv2.circle(black_image, (left_knee_point[0], left_knee_point[1]), 3, (0,0,255), -1)\n",
        "    black_image = cv2.circle(black_image, (right_knee_point[0], right_knee_point[1]), 3, (0,0,255), -1)\n",
        "\n",
        "    black_image = cv2.circle(black_image, (left_ankle_point[0], left_ankle_point[1]), 3, (0,0,255), -1)\n",
        "    black_image = cv2.circle(black_image, (right_ankle_point[0], right_ankle_point[1]), 3, (0,0,255), -1)\n",
        "\n",
        "\n",
        "\n",
        "    #black_image = cv2.line(black_image, (left_shoulder_point[0], left_shoulder_point[1]), (left_elbow_point[0], left_elbow_point[1]), (255,0,0), 8)\n",
        "    #black_image = cv2.line(black_image, (left_elbow_point[0], left_elbow_point[1]), (left_wrist_point[0], left_wrist_point[1]), (255,0,0), 8)\n",
        "    #print(left_shoulder_point, left_elbow_point)\n",
        "    body_skeleton_img = getColoringOfSkeleton(black_image, left_shoulder_point, left_elbow_point)\n",
        "    body_skeleton_img = getColoringOfSkeleton(body_skeleton_img, left_elbow_point, left_wrist_point)\n",
        "    body_skeleton_img = getColoringOfSkeleton(body_skeleton_img, left_shoulder_point, right_shoulder_point)\n",
        "    body_skeleton_img = getColoringOfSkeleton(body_skeleton_img, left_shoulder_point, left_hip_point)\n",
        "    body_skeleton_img = getColoringOfSkeleton(body_skeleton_img, left_hip_point, left_knee_point)\n",
        "    body_skeleton_img = getColoringOfSkeleton(body_skeleton_img, left_knee_point, left_ankle_point)\n",
        "    body_skeleton_img = getColoringOfSkeleton(body_skeleton_img, right_elbow_point, right_wrist_point)\n",
        "    body_skeleton_img = getColoringOfSkeleton(body_skeleton_img, right_shoulder_point, right_elbow_point)\n",
        "    body_skeleton_img = getColoringOfSkeleton(body_skeleton_img, right_shoulder_point, right_hip_point)\n",
        "    body_skeleton_img = getColoringOfSkeleton(body_skeleton_img, right_hip_point, right_knee_point)\n",
        "    body_skeleton_img = getColoringOfSkeleton(body_skeleton_img, right_knee_point, right_ankle_point)\n",
        "    body_skeleton_img = getColoringOfSkeleton(body_skeleton_img, right_hip_point, left_hip_point)\n",
        "\n",
        "    return body_skeleton_img\n"
      ],
      "execution_count": null,
      "outputs": []
    },
    {
      "cell_type": "code",
      "metadata": {
        "colab": {
          "base_uri": "https://localhost:8080/",
          "height": 629
        },
        "id": "UEu3F2RXpzeE",
        "outputId": "73270c68-3deb-4b5f-f3ac-9e1932e541ea"
      },
      "source": [
        "image = cv2.imread('human t shape image.jpg')\n",
        "black_image = np.zeros((3*image.shape[0]*image.shape[1])).reshape(image.shape[0], image.shape[1], 3)\n",
        "output_image, body_skeleton_landmarks = detectPose(image, pose, display=False)\n",
        "\n",
        "body_skeleton_img = getFullBodySkeleton(black_image, mp_pose, body_skeleton_landmarks)\n",
        "plt.figure(figsize=[10,10])\n",
        "#plt.subplot(111);plt.imshow(image[:,:,::-1]);plt.title(\"Original Image\");plt.axis('off');\n",
        "plt.subplot(111);plt.imshow(body_skeleton_img[:,:,::-1]);plt.title(\"Body Skeleton Image\");plt.axis('off');\n",
        "\n"
      ],
      "execution_count": null,
      "outputs": [
        {
          "output_type": "stream",
          "name": "stderr",
          "text": [
            "Clipping input data to the valid range for imshow with RGB data ([0..1] for floats or [0..255] for integers).\n"
          ]
        },
        {
          "output_type": "display_data",
          "data": {
            "image/png": "[encoded data removed]",
            "text/plain": [
              "<Figure size 720x720 with 1 Axes>"
            ]
          },
          "metadata": {
            "needs_background": "light"
          }
        }
      ]
    },
    {
      "cell_type": "code",
      "metadata": {
        "colab": {
          "base_uri": "https://localhost:8080/",
          "height": 609
        },
        "id": "GrMLBYieg9DZ",
        "outputId": "6074481c-2bc2-4b3a-c517-13b68c0fd556"
      },
      "source": [
        "# Don't run this code\n",
        "# Read a sample image and perform pose classification on it.\n",
        "image = cv2.imread('human t shape image.jpg')\n",
        "output_image, landmarks = detectPose(image, black_image, pose, display=True)\n",
        "#if landmarks:\n",
        "#    classifyPose(landmarks, black_image, display=True)"
      ],
      "execution_count": null,
      "outputs": [
        {
          "name": "stderr",
          "output_type": "stream",
          "text": [
            "Clipping input data to the valid range for imshow with RGB data ([0..1] for floats or [0..255] for integers).\n"
          ]
        },
        {
          "data": {
            "image/png": "[encoded data removed]",
            "text/plain": [
              "<Figure size 720x720 with 1 Axes>"
            ]
          },
          "metadata": {},
          "output_type": "display_data"
        }
      ]
    },
    {
      "cell_type": "code",
      "metadata": {
        "colab": {
          "base_uri": "https://localhost:8080/"
        },
        "id": "b3zQX3OhP2Vr",
        "outputId": "f50be9e1-c06c-441d-8240-f9c5702f2172"
      },
      "source": [
        "output_image.shape"
      ],
      "execution_count": null,
      "outputs": [
        {
          "data": {
            "text/plain": [
              "(640, 640, 3)"
            ]
          },
          "execution_count": 29,
          "metadata": {},
          "output_type": "execute_result"
        }
      ]
    },
    {
      "cell_type": "code",
      "metadata": {
        "colab": {
          "base_uri": "https://localhost:8080/"
        },
        "id": "BSKst3tSh5A0",
        "outputId": "fd1f5ab5-0d5e-4f0a-f3e5-bda52d39b64e"
      },
      "source": [
        "75*0.5"
      ],
      "execution_count": null,
      "outputs": [
        {
          "data": {
            "text/plain": [
              "37.5"
            ]
          },
          "execution_count": 63,
          "metadata": {},
          "output_type": "execute_result"
        }
      ]
    },
    {
      "cell_type": "code",
      "metadata": {
        "colab": {
          "base_uri": "https://localhost:8080/"
        },
        "id": "0r6bIhOX04o7",
        "outputId": "92f48c42-0aa9-4d18-b59a-132301333614"
      },
      "source": [
        "int(np.round(7.7))"
      ],
      "execution_count": null,
      "outputs": [
        {
          "data": {
            "text/plain": [
              "8"
            ]
          },
          "execution_count": 69,
          "metadata": {},
          "output_type": "execute_result"
        }
      ]
    },
    {
      "cell_type": "code",
      "metadata": {
        "id": "f5P-1P8AT0Rg"
      },
      "source": [
        "def colorDetectedBodyPart(body_skeleton_img, keypoint1, keypoint2, overlap_start, overlap_end):\n",
        "\n",
        "    x_diff = keypoint2[0] - keypoint1[0]\n",
        "    y_diff = keypoint2[1] - keypoint1[1]\n",
        "\n",
        "    if abs(x_diff) > abs(y_diff):\n",
        "        max_diff = abs(x_diff)\n",
        "    else:\n",
        "        max_diff = abs(y_diff)  \n",
        "\n",
        "    x_change = x_diff/max_diff\n",
        "    y_change = y_diff/max_diff   \n",
        "\n",
        "    #print(f\"keypoint 1 : {keypoint1}, keypoint2 : {keypoint2}\")\n",
        "    #print(f\"x_chnage : {x_change} and y_change : {y_change}\")\n",
        "    #print(f\"overlap start : {overlap_start} and overlap end : {overlap_end}\")\n",
        "    #print(f\"Max diff : {max_diff}\")\n",
        "\n",
        "    iter_no = int(max_diff*abs(overlap_end - overlap_start)) \n",
        "\n",
        "    overlap_start *= 10\n",
        "    overlap_end *= 10\n",
        "\n",
        "    \n",
        "\n",
        "\n",
        "    x1 = keypoint1[0] + overlap_start*(x_diff/10); y1 = keypoint1[1] + overlap_start*(y_diff/10)\n",
        "    x2 = keypoint1[0] + overlap_end*(x_diff/10); y2 = keypoint1[1] + overlap_end*(y_diff/10)\n",
        "    #x2 = keypoint1[0] + overlap_end*x_change + abs(x_change)/x_change; y2 = keypoint1[1] + overlap_end*y_change + abs(y_change)/y_change\n",
        "\n",
        "    if overlap_start == 0:\n",
        "        #body_skeleton_img[int(y1)][int(x1)] = [0, 255, 0]\n",
        "        body_skeleton_img = cv2.circle(body_skeleton_img, (keypoint1[0], keypoint1[1]), 3, (0,255,0), -1)\n",
        "\n",
        "    if overlap_end == 10:\n",
        "        #body_skeleton_img[int(y1)][int(x1)] = [0, 255, 0]\n",
        "        body_skeleton_img = cv2.circle(body_skeleton_img, (keypoint2[0], keypoint2[1]), 3, (0,255,0), -1)\n",
        "\n",
        "\n",
        "    #print(f\"Body skeleton shape : {body_skeleton_img.shape}\")\n",
        "    #print(f\"(x1, y1) : ({x1}, {y1}) and (x2, y2) : ({x2}, {y2})\")\n",
        "    #print(f\"iter no : {iter_no}\")\n",
        "    #while( int(x1) != x2 and int(y1) != y2 ):\n",
        "    for  i in range(iter_no+1):\n",
        "            \n",
        "            #print(f\"(x1, y1) : ({int(y1)}, {int(x1)})\")\n",
        "            body_skeleton_img[int(y1)][int(x1)] = [0, 255, 0]\n",
        "            x1 += x_change             \n",
        "            y1 += y_change\n",
        "\n",
        "\n",
        "    return  body_skeleton_img          \n",
        "\n"
      ],
      "execution_count": null,
      "outputs": []
    },
    {
      "cell_type": "code",
      "metadata": {
        "id": "dTWqjZDYT0eq"
      },
      "source": [
        ""
      ],
      "execution_count": null,
      "outputs": []
    },
    {
      "cell_type": "code",
      "metadata": {
        "colab": {
          "base_uri": "https://localhost:8080/",
          "height": 1000
        },
        "id": "kibfaRrOeFK_",
        "outputId": "52620311-8416-420b-a251-3a38a434afa3"
      },
      "source": [
        " \n",
        "# import the opencv library\n",
        "import cv2\n",
        "from google.colab.patches import cv2_imshow\n",
        "import glob\n",
        "  \n",
        "  \n",
        "# define a video capture object\n",
        "video_path = \"/content/Frisking/frisking body.mp4\"\n",
        "labels_path = \"/content/Frisking/Labels/*\"\n",
        "\n",
        "labels_path_list = glob.glob(labels_path)\n",
        "labels_path_list = sorted(labels_path_list)\n",
        "\n",
        "print(\"length of labels \", len(labels_path_list))\n",
        "\n",
        "\n",
        "skeleton_left_shoulder_point = body_skeleton_landmarks[mp_pose.PoseLandmark.LEFT_SHOULDER.value]\n",
        "skeleton_right_shoulder_point = body_skeleton_landmarks[mp_pose.PoseLandmark.RIGHT_SHOULDER.value]\n",
        "skeleton_left_elbow_point = body_skeleton_landmarks[mp_pose.PoseLandmark.LEFT_ELBOW.value]\n",
        "skeleton_right_elbow_point = body_skeleton_landmarks[mp_pose.PoseLandmark.RIGHT_ELBOW.value]\n",
        "skeleton_left_wrist_point = body_skeleton_landmarks[mp_pose.PoseLandmark.LEFT_WRIST.value]\n",
        "skeleton_right_wrist_point = body_skeleton_landmarks[mp_pose.PoseLandmark.RIGHT_WRIST.value]\n",
        "skeleton_left_hip_point = body_skeleton_landmarks[mp_pose.PoseLandmark.LEFT_HIP.value]\n",
        "skeleton_right_hip_point = body_skeleton_landmarks[mp_pose.PoseLandmark.RIGHT_HIP.value]\n",
        "skeleton_left_knee_point = body_skeleton_landmarks[mp_pose.PoseLandmark.LEFT_KNEE.value]\n",
        "skeleton_right_knee_point = body_skeleton_landmarks[mp_pose.PoseLandmark.RIGHT_KNEE.value]\n",
        "skeleton_left_ankle_point = body_skeleton_landmarks[mp_pose.PoseLandmark.LEFT_ANKLE.value]\n",
        "skeleton_right_ankle_point = body_skeleton_landmarks[mp_pose.PoseLandmark.RIGHT_ANKLE.value]\n",
        "\n",
        "#body_skeleton_img = body_skeleton_img.astype(int)\n",
        "\n",
        "frameSize = (1280, 1280)\n",
        "\n",
        "out = cv2.VideoWriter('frisking_body.mp4',cv2.VideoWriter_fourcc(*'mp4v'), 30, frameSize)\n",
        "\n",
        "vid = cv2.VideoCapture(video_path)\n",
        "\n",
        "frame_no = 0\n",
        "label_no = 0\n",
        "count = 1\n",
        "\n",
        "while(vid.isOpened()):\n",
        "      \n",
        "    ret, frame = vid.read()\n",
        "\n",
        "    \n",
        "    if count == 1:\n",
        "\n",
        "        \n",
        "        image = frame \n",
        "        \n",
        "        frame, landmarks = detectPose(frame, pose, display=False)\n",
        "        #print(f\" frame number : {frame_no} and frame shape : {frame.shape} and landmarks : {landmarks}\")\n",
        "       \n",
        "        try:\n",
        "            detector_frame_path = labels_path_list[label_no] \n",
        "            detector_frame_no =  int(detector_frame_path[-12:-4])\n",
        "        except:\n",
        "            continue    \n",
        "  \n",
        "\n",
        "        if frame_no == detector_frame_no:\n",
        "            \n",
        "            label_file = open(detector_frame_path,\"r\")\n",
        "            label = label_file.readline()[:-1].split(\",\")  # label is like ['Detector', '627', '545', '210', '175']\n",
        "            detector_coordinates = []\n",
        "            detector_coordinates.append(int(label[1]))\n",
        "            detector_coordinates.append(int(label[2]))\n",
        "            detector_coordinates.append(int(label[3]))\n",
        "            detector_coordinates.append(int(label[4]))  \n",
        "\n",
        "            \n",
        "\n",
        "            #full body code starts\n",
        "\n",
        "            left_shoulder_point = landmarks[mp_pose.PoseLandmark.LEFT_SHOULDER.value]\n",
        "            right_shoulder_point = landmarks[mp_pose.PoseLandmark.RIGHT_SHOULDER.value]\n",
        "            left_elbow_point = landmarks[mp_pose.PoseLandmark.LEFT_ELBOW.value]\n",
        "            right_elbow_point = landmarks[mp_pose.PoseLandmark.RIGHT_ELBOW.value]\n",
        "            left_wrist_point = landmarks[mp_pose.PoseLandmark.LEFT_WRIST.value]\n",
        "            right_wrist_point = landmarks[mp_pose.PoseLandmark.RIGHT_WRIST.value]\n",
        "            left_hip_point = landmarks[mp_pose.PoseLandmark.LEFT_HIP.value]\n",
        "            right_hip_point = landmarks[mp_pose.PoseLandmark.RIGHT_HIP.value]\n",
        "            left_knee_point = landmarks[mp_pose.PoseLandmark.LEFT_KNEE.value]\n",
        "            right_knee_point = landmarks[mp_pose.PoseLandmark.RIGHT_KNEE.value]\n",
        "            left_ankle_point = landmarks[mp_pose.PoseLandmark.LEFT_ANKLE.value]\n",
        "            right_ankle_point = landmarks[mp_pose.PoseLandmark.RIGHT_ANKLE.value]\n",
        "\n",
        "\n",
        "            for i in range(12): \n",
        "\n",
        "                if i == 0:\n",
        "                    keypoint1 = left_elbow_point\n",
        "                    keypoint2 = left_wrist_point \n",
        "\n",
        "                    try:\n",
        "                        overlap_coordinates, overlap_start, overlap_end  = getOverlapCoordinates(keypoint1, keypoint2, detector_coordinates)\n",
        "                        keypoint1 = skeleton_left_elbow_point\n",
        "                        keypoint2 = skeleton_left_wrist_point  \n",
        "                        body_skeleton_img = colorDetectedBodyPart(body_skeleton_img, keypoint1, keypoint2, overlap_start, overlap_end)\n",
        "                    except:\n",
        "                        pass  \n",
        "\n",
        "                elif i == 1:\n",
        "                    keypoint1 = left_shoulder_point\n",
        "                    keypoint2 = left_elbow_point \n",
        "\n",
        "                    try:\n",
        "                        overlap_coordinates, overlap_start, overlap_end  = getOverlapCoordinates(keypoint1, keypoint2, detector_coordinates)\n",
        "                        keypoint1 = skeleton_left_shoulder_point\n",
        "                        keypoint2 = skeleton_left_elbow_point  \n",
        "                        body_skeleton_img = colorDetectedBodyPart(body_skeleton_img, keypoint1, keypoint2, overlap_start, overlap_end)\n",
        "                    except:\n",
        "                        pass\n",
        "\n",
        "                elif i == 2:\n",
        "                    keypoint1 = left_shoulder_point\n",
        "                    keypoint2 = right_shoulder_point \n",
        "\n",
        "                    try:\n",
        "                        overlap_coordinates, overlap_start, overlap_end  = getOverlapCoordinates(keypoint1, keypoint2, detector_coordinates)\n",
        "                        keypoint1 = skeleton_left_shoulder_point\n",
        "                        keypoint2 = skeleton_right_shoulder_point\n",
        "                        body_skeleton_img = colorDetectedBodyPart(body_skeleton_img, keypoint1, keypoint2, overlap_start, overlap_end)\n",
        "                    except:\n",
        "                        pass\n",
        "\n",
        "                elif i == 3:\n",
        "                    keypoint1 = right_shoulder_point\n",
        "                    keypoint2 = right_elbow_point \n",
        "\n",
        "                    try:\n",
        "                        overlap_coordinates, overlap_start, overlap_end  = getOverlapCoordinates(keypoint1, keypoint2, detector_coordinates)\n",
        "                        keypoint1 = skeleton_right_shoulder_point\n",
        "                        keypoint2 = skeleton_right_elbow_point  \n",
        "                        body_skeleton_img = colorDetectedBodyPart(body_skeleton_img, keypoint1, keypoint2, overlap_start, overlap_end)\n",
        "                    except:\n",
        "                        pass\n",
        "\n",
        "                elif i == 4:\n",
        "                    keypoint1 = right_elbow_point\n",
        "                    keypoint2 = right_wrist_point\n",
        "\n",
        "                    try:\n",
        "                        overlap_coordinates, overlap_start, overlap_end  = getOverlapCoordinates(keypoint1, keypoint2, detector_coordinates)\n",
        "                        keypoint1 = skeleton_right_elbow_point\n",
        "                        keypoint2 = skeleton_right_wrist_point  \n",
        "                        body_skeleton_img = colorDetectedBodyPart(body_skeleton_img, keypoint1, keypoint2, overlap_start, overlap_end)\n",
        "                    except:\n",
        "                        pass\n",
        "\n",
        "                elif i == 5:\n",
        "                    keypoint1 = right_shoulder_point\n",
        "                    keypoint2 = right_hip_point \n",
        "\n",
        "                    try:\n",
        "                        overlap_coordinates, overlap_start, overlap_end  = getOverlapCoordinates(keypoint1, keypoint2, detector_coordinates)\n",
        "                        keypoint1 = skeleton_right_shoulder_point\n",
        "                        keypoint2 = skeleton_right_hip_point\n",
        "                        body_skeleton_img = colorDetectedBodyPart(body_skeleton_img, keypoint1, keypoint2, overlap_start, overlap_end)\n",
        "                    except:\n",
        "                        pass\n",
        "\n",
        "                elif i == 6: \n",
        "                    keypoint1 = right_hip_point\n",
        "                    keypoint2 = left_hip_point \n",
        "\n",
        "                    try:\n",
        "                        overlap_coordinates, overlap_start, overlap_end  = getOverlapCoordinates(keypoint1, keypoint2, detector_coordinates)\n",
        "                        keypoint1 = skeleton_right_hip_point\n",
        "                        keypoint2 = skeleton_left_hip_point  \n",
        "                        body_skeleton_img = colorDetectedBodyPart(body_skeleton_img, keypoint1, keypoint2, overlap_start, overlap_end)\n",
        "                    except:\n",
        "                        pass\n",
        "\n",
        "                elif i == 7:\n",
        "                    keypoint1 = left_shoulder_point\n",
        "                    keypoint2 = left_hip_point \n",
        "\n",
        "                    try:\n",
        "                        overlap_coordinates, overlap_start, overlap_end  = getOverlapCoordinates(keypoint1, keypoint2, detector_coordinates)\n",
        "                        keypoint1 = skeleton_left_shoulder_point\n",
        "                        keypoint2 = skeleton_left_hip_point  \n",
        "                        body_skeleton_img = colorDetectedBodyPart(body_skeleton_img, keypoint1, keypoint2, overlap_start, overlap_end)\n",
        "                    except:\n",
        "                        pass\n",
        "\n",
        "                elif i == 8:\n",
        "                    keypoint1 = left_hip_point\n",
        "                    keypoint2 = left_knee_point \n",
        "\n",
        "                    try:\n",
        "                        overlap_coordinates, overlap_start, overlap_end  = getOverlapCoordinates(keypoint1, keypoint2, detector_coordinates)\n",
        "                        keypoint1 = skeleton_left_hip_point\n",
        "                        keypoint2 = skeleton_left_knee_point \n",
        "                        body_skeleton_img = colorDetectedBodyPart(body_skeleton_img, keypoint1, keypoint2, overlap_start, overlap_end)\n",
        "                    except:\n",
        "                        pass\n",
        "\n",
        "                elif i == 9:\n",
        "                    keypoint1 = left_knee_point \n",
        "                    keypoint2 = left_ankle_point \n",
        "\n",
        "                    try:\n",
        "                        overlap_coordinates, overlap_start, overlap_end  = getOverlapCoordinates(keypoint1, keypoint2, detector_coordinates)\n",
        "                        keypoint1 = skeleton_left_knee_point \n",
        "                        keypoint2 = skeleton_left_ankle_point \n",
        "                        body_skeleton_img = colorDetectedBodyPart(body_skeleton_img, keypoint1, keypoint2, overlap_start, overlap_end)\n",
        "                    except:\n",
        "                        pass\n",
        "\n",
        "                elif i == 10:\n",
        "                    keypoint1 = right_hip_point\n",
        "                    keypoint2 = right_knee_point \n",
        "\n",
        "                    try:\n",
        "                        overlap_coordinates, overlap_start, overlap_end  = getOverlapCoordinates(keypoint1, keypoint2, detector_coordinates)\n",
        "                        keypoint1 = skeleton_right_hip_point\n",
        "                        keypoint2 = skeleton_right_knee_point \n",
        "                        body_skeleton_img = colorDetectedBodyPart(body_skeleton_img, keypoint1, keypoint2, overlap_start, overlap_end)\n",
        "                    except:\n",
        "                        pass\n",
        "\n",
        "                elif i == 11:  \n",
        "                    keypoint1 = right_knee_point\n",
        "                    keypoint2 = right_ankle_point \n",
        "\n",
        "                    try:\n",
        "                        overlap_coordinates, overlap_start, overlap_end  = getOverlapCoordinates(keypoint1, keypoint2, detector_coordinates)\n",
        "                        keypoint1 = skeleton_right_knee_point\n",
        "                        keypoint2 = skeleton_right_ankle_point   \n",
        "                        body_skeleton_img = colorDetectedBodyPart(body_skeleton_img, keypoint1, keypoint2, overlap_start, overlap_end)\n",
        "                    except:\n",
        "                        pass             \n",
        "                  \n",
        "\n",
        "\n",
        "\n",
        "\n",
        "\n",
        "            #full body code ends\n",
        "\n",
        "\n",
        "\n",
        "\n",
        "\n",
        "            #black_image = np.zeros((image.shape[0], image.shape[1]))\n",
        "        \n",
        "            #skeleton_image = getSkeleton(black_image, landmarks, mp_pose)\n",
        "            #detector_image  = getDetectorPosition(black_image, detector_frame_path)\n",
        "\n",
        "\n",
        "            '''\n",
        "            #1  \n",
        "            left_shoulder_point = landmarks[mp_pose.PoseLandmark.LEFT_SHOULDER.value]\n",
        "            left_elbow_point = landmarks[mp_pose.PoseLandmark.LEFT_ELBOW.value]\n",
        "            keypoint1 = left_shoulder_point\n",
        "            keypoint2 = left_elbow_point \n",
        "\n",
        "            try:\n",
        "                overlap_coordinates, overlap_start, overlap_end  = getOverlapCoordinates(keypoint1, keypoint2, detector_coordinates)\n",
        "                \n",
        "                skeleton_left_shoulder_point = body_skeleton_landmarks[mp_pose.PoseLandmark.LEFT_SHOULDER.value]\n",
        "                skeleton_left_elbow_point = body_skeleton_landmarks[mp_pose.PoseLandmark.LEFT_ELBOW.value]\n",
        "                keypoint1 = skeleton_left_shoulder_point\n",
        "                keypoint2 = skeleton_left_elbow_point  \n",
        "                body_skeleton_img = colorDetectedBodyPart(body_skeleton_img, keypoint1, keypoint2, overlap_start, overlap_end)\n",
        "            except:\n",
        "                pass    \n",
        "\n",
        "\n",
        "            #2\n",
        "            left_elbow_point = landmarks[mp_pose.PoseLandmark.LEFT_ELBOW.value]\n",
        "            left_wrist_point = landmarks[mp_pose.PoseLandmark.LEFT_WRIST.value]\n",
        "            keypoint1 = left_elbow_point\n",
        "            keypoint2 = left_wrist_point \n",
        "            \n",
        "            try:\n",
        "                overlap_coordinates, overlap_start, overlap_end  = getOverlapCoordinates(keypoint1, keypoint2, detector_coordinates)\n",
        "                \n",
        "                skeleton_left_elbow_point = body_skeleton_landmarks[mp_pose.PoseLandmark.LEFT_ELBOW.value]\n",
        "                skeleton_left_wrist_point = body_skeleton_landmarks[mp_pose.PoseLandmark.LEFT_WRIST.value]\n",
        "                keypoint1 = skeleton_left_elbow_point \n",
        "                keypoint2 = skeleton_left_wrist_point  \n",
        "                body_skeleton_img = colorDetectedBodyPart(body_skeleton_img, keypoint1, keypoint2, overlap_start, overlap_end)\n",
        "            except:\n",
        "                pass    \n",
        "\n",
        "            '''\n",
        "\n",
        "            body_skeleton_img_copy = body_skeleton_img.copy()\n",
        "            body_skeleton_img_copy = body_skeleton_img_copy.astype(int)\n",
        "            plt.figure(figsize=[15,10])\n",
        "            img = cv2.resize(image, dsize=(body_skeleton_img.shape[0], body_skeleton_img.shape[1]))\n",
        "            image_and_skeleton = np.concatenate((img, body_skeleton_img_copy), axis = 1)  \n",
        "            print(f\"frame shape : {frame.shape} and skeleton shape : {body_skeleton_img.shape} and image_and_skeleton shape : {image_and_skeleton.shape}\")\n",
        "            #plt.subplot(111);plt.imshow(image_and_skeleton[:,:,::-1]);plt.title(\"Original Image\");plt.axis('off');          \n",
        "\n",
        "            #print(f\"1. overlap start : {overlap_start} and overlap end : {overlap_end}\")\n",
        "            #print(f\"2. overlap start : {overlap_start} and overlap end : {overlap_end}\")\n",
        "            #plt.figure(figsize=[15,15])\n",
        "            #plt.subplot(121);plt.imshow(image[:,:,::-1]);plt.title(\"Original Image\");plt.axis('off');\n",
        "            #plt.subplot(122);plt.imshow(body_skeleton_img[:,:,::-1]);plt.title(\"Body Skeleton Image\");plt.axis('off');    \n",
        "            #cv2_imshow(image)\n",
        "            #cv2_imshow(body_skeleton_img)\n",
        "            image_and_skeleton_copy = image_and_skeleton[:,:,::-1].astype(np.uint8)\n",
        "            image_and_skeleton_copy= np.pad(image_and_skeleton_copy, pad_width=[(int((1280-640)/2), int((1280-640)/2)),(0, 0),(0, 0)], mode='constant')\n",
        "            out.write(image_and_skeleton_copy[:,:,::-1])\n",
        "\n",
        "            print(f\"label_no : {label_no} and frame_no : {frame_no} and detector_frame_no : {detector_frame_no}\")\n",
        "            label_no += 1 \n",
        "             \n",
        "            \n",
        "    \n",
        "        frame_no += 1\n",
        "\n",
        "\n",
        "\n",
        "    \n",
        "     \n",
        "\n",
        "    if frame_no == 168:\n",
        "        break\n",
        "\n",
        "    #hand_coordinate_visited_unvisited = checkPixelPresent(hand_coordinate, labels_path)\n",
        "    #image, accuracy = ColoringVisitedAndUnvisited(image, hand_coordinate_visited_unvisited)\n",
        "\n",
        "\n",
        "\n",
        "    #print(f\"Accuracy of Detection : {accuracy}\")\n",
        "    #print(\"Green color shows detector has visited that area and red color shows detector has not visited that area\")\n",
        "    \n",
        "    #plt.figure(figsize=[10,10])\n",
        "    #plt.imshow(image[:,:,::-1]);plt.title(\"Output Image\");plt.axis('off');plt.show()\n",
        "    #plt.imshow(black_image, cmap=\"gray\");plt.title(\"Output Image\");plt.axis('off');plt.show()\n",
        "\n",
        "  \n",
        "out.release()  \n",
        "# After the loop release the cap object\n",
        "vid.release()\n",
        "# Destroy all the windows\n",
        "cv2.destroyAllWindows() "
      ],
      "execution_count": null,
      "outputs": [
        {
          "output_type": "stream",
          "name": "stdout",
          "text": [
            "length of labels  169\n",
            "frame shape : (720, 1280, 3) and skeleton shape : (640, 640, 3) and image_and_skeleton shape : (640, 1280, 3)\n",
            "label_no : 0 and frame_no : 0 and detector_frame_no : 0\n",
            "frame shape : (720, 1280, 3) and skeleton shape : (640, 640, 3) and image_and_skeleton shape : (640, 1280, 3)\n",
            "label_no : 1 and frame_no : 1 and detector_frame_no : 1\n",
            "frame shape : (720, 1280, 3) and skeleton shape : (640, 640, 3) and image_and_skeleton shape : (640, 1280, 3)\n",
            "label_no : 2 and frame_no : 2 and detector_frame_no : 2\n",
            "frame shape : (720, 1280, 3) and skeleton shape : (640, 640, 3) and image_and_skeleton shape : (640, 1280, 3)\n",
            "label_no : 3 and frame_no : 3 and detector_frame_no : 3\n",
            "frame shape : (720, 1280, 3) and skeleton shape : (640, 640, 3) and image_and_skeleton shape : (640, 1280, 3)\n",
            "label_no : 4 and frame_no : 4 and detector_frame_no : 4\n",
            "frame shape : (720, 1280, 3) and skeleton shape : (640, 640, 3) and image_and_skeleton shape : (640, 1280, 3)\n",
            "label_no : 5 and frame_no : 5 and detector_frame_no : 5\n",
            "frame shape : (720, 1280, 3) and skeleton shape : (640, 640, 3) and image_and_skeleton shape : (640, 1280, 3)\n",
            "label_no : 6 and frame_no : 6 and detector_frame_no : 6\n",
            "frame shape : (720, 1280, 3) and skeleton shape : (640, 640, 3) and image_and_skeleton shape : (640, 1280, 3)\n",
            "label_no : 7 and frame_no : 7 and detector_frame_no : 7\n",
            "frame shape : (720, 1280, 3) and skeleton shape : (640, 640, 3) and image_and_skeleton shape : (640, 1280, 3)\n",
            "label_no : 8 and frame_no : 8 and detector_frame_no : 8\n",
            "frame shape : (720, 1280, 3) and skeleton shape : (640, 640, 3) and image_and_skeleton shape : (640, 1280, 3)\n",
            "label_no : 9 and frame_no : 9 and detector_frame_no : 9\n",
            "frame shape : (720, 1280, 3) and skeleton shape : (640, 640, 3) and image_and_skeleton shape : (640, 1280, 3)\n",
            "label_no : 10 and frame_no : 10 and detector_frame_no : 10\n",
            "frame shape : (720, 1280, 3) and skeleton shape : (640, 640, 3) and image_and_skeleton shape : (640, 1280, 3)\n",
            "label_no : 11 and frame_no : 11 and detector_frame_no : 11\n",
            "frame shape : (720, 1280, 3) and skeleton shape : (640, 640, 3) and image_and_skeleton shape : (640, 1280, 3)\n",
            "label_no : 12 and frame_no : 12 and detector_frame_no : 12\n",
            "frame shape : (720, 1280, 3) and skeleton shape : (640, 640, 3) and image_and_skeleton shape : (640, 1280, 3)\n",
            "label_no : 13 and frame_no : 13 and detector_frame_no : 13\n",
            "frame shape : (720, 1280, 3) and skeleton shape : (640, 640, 3) and image_and_skeleton shape : (640, 1280, 3)\n",
            "label_no : 14 and frame_no : 14 and detector_frame_no : 14\n",
            "frame shape : (720, 1280, 3) and skeleton shape : (640, 640, 3) and image_and_skeleton shape : (640, 1280, 3)\n",
            "label_no : 15 and frame_no : 15 and detector_frame_no : 15\n",
            "frame shape : (720, 1280, 3) and skeleton shape : (640, 640, 3) and image_and_skeleton shape : (640, 1280, 3)\n",
            "label_no : 16 and frame_no : 16 and detector_frame_no : 16\n",
            "frame shape : (720, 1280, 3) and skeleton shape : (640, 640, 3) and image_and_skeleton shape : (640, 1280, 3)\n",
            "label_no : 17 and frame_no : 17 and detector_frame_no : 17\n",
            "frame shape : (720, 1280, 3) and skeleton shape : (640, 640, 3) and image_and_skeleton shape : (640, 1280, 3)\n",
            "label_no : 18 and frame_no : 18 and detector_frame_no : 18\n",
            "frame shape : (720, 1280, 3) and skeleton shape : (640, 640, 3) and image_and_skeleton shape : (640, 1280, 3)\n",
            "label_no : 19 and frame_no : 19 and detector_frame_no : 19\n"
          ]
        },
        {
          "output_type": "stream",
          "name": "stderr",
          "text": [
            "/usr/local/lib/python3.7/dist-packages/ipykernel_launcher.py:294: RuntimeWarning: More than 20 figures have been opened. Figures created through the pyplot interface (`matplotlib.pyplot.figure`) are retained until explicitly closed and may consume too much memory. (To control this warning, see the rcParam `figure.max_open_warning`).\n"
          ]
        },
        {
          "output_type": "stream",
          "name": "stdout",
          "text": [
            "frame shape : (720, 1280, 3) and skeleton shape : (640, 640, 3) and image_and_skeleton shape : (640, 1280, 3)\n",
            "label_no : 20 and frame_no : 20 and detector_frame_no : 20\n",
            "frame shape : (720, 1280, 3) and skeleton shape : (640, 640, 3) and image_and_skeleton shape : (640, 1280, 3)\n",
            "label_no : 21 and frame_no : 21 and detector_frame_no : 21\n",
            "frame shape : (720, 1280, 3) and skeleton shape : (640, 640, 3) and image_and_skeleton shape : (640, 1280, 3)\n",
            "label_no : 22 and frame_no : 22 and detector_frame_no : 22\n",
            "frame shape : (720, 1280, 3) and skeleton shape : (640, 640, 3) and image_and_skeleton shape : (640, 1280, 3)\n",
            "label_no : 23 and frame_no : 23 and detector_frame_no : 23\n",
            "frame shape : (720, 1280, 3) and skeleton shape : (640, 640, 3) and image_and_skeleton shape : (640, 1280, 3)\n",
            "label_no : 24 and frame_no : 24 and detector_frame_no : 24\n",
            "frame shape : (720, 1280, 3) and skeleton shape : (640, 640, 3) and image_and_skeleton shape : (640, 1280, 3)\n",
            "label_no : 25 and frame_no : 25 and detector_frame_no : 25\n",
            "frame shape : (720, 1280, 3) and skeleton shape : (640, 640, 3) and image_and_skeleton shape : (640, 1280, 3)\n",
            "label_no : 26 and frame_no : 26 and detector_frame_no : 26\n",
            "frame shape : (720, 1280, 3) and skeleton shape : (640, 640, 3) and image_and_skeleton shape : (640, 1280, 3)\n",
            "label_no : 27 and frame_no : 27 and detector_frame_no : 27\n",
            "frame shape : (720, 1280, 3) and skeleton shape : (640, 640, 3) and image_and_skeleton shape : (640, 1280, 3)\n",
            "label_no : 28 and frame_no : 28 and detector_frame_no : 28\n",
            "frame shape : (720, 1280, 3) and skeleton shape : (640, 640, 3) and image_and_skeleton shape : (640, 1280, 3)\n",
            "label_no : 29 and frame_no : 29 and detector_frame_no : 29\n",
            "frame shape : (720, 1280, 3) and skeleton shape : (640, 640, 3) and image_and_skeleton shape : (640, 1280, 3)\n",
            "label_no : 30 and frame_no : 30 and detector_frame_no : 30\n",
            "frame shape : (720, 1280, 3) and skeleton shape : (640, 640, 3) and image_and_skeleton shape : (640, 1280, 3)\n",
            "label_no : 31 and frame_no : 31 and detector_frame_no : 31\n",
            "frame shape : (720, 1280, 3) and skeleton shape : (640, 640, 3) and image_and_skeleton shape : (640, 1280, 3)\n",
            "label_no : 32 and frame_no : 32 and detector_frame_no : 32\n",
            "frame shape : (720, 1280, 3) and skeleton shape : (640, 640, 3) and image_and_skeleton shape : (640, 1280, 3)\n",
            "label_no : 33 and frame_no : 33 and detector_frame_no : 33\n",
            "frame shape : (720, 1280, 3) and skeleton shape : (640, 640, 3) and image_and_skeleton shape : (640, 1280, 3)\n",
            "label_no : 34 and frame_no : 34 and detector_frame_no : 34\n",
            "frame shape : (720, 1280, 3) and skeleton shape : (640, 640, 3) and image_and_skeleton shape : (640, 1280, 3)\n",
            "label_no : 35 and frame_no : 35 and detector_frame_no : 35\n",
            "frame shape : (720, 1280, 3) and skeleton shape : (640, 640, 3) and image_and_skeleton shape : (640, 1280, 3)\n",
            "label_no : 36 and frame_no : 36 and detector_frame_no : 36\n",
            "frame shape : (720, 1280, 3) and skeleton shape : (640, 640, 3) and image_and_skeleton shape : (640, 1280, 3)\n",
            "label_no : 37 and frame_no : 37 and detector_frame_no : 37\n",
            "frame shape : (720, 1280, 3) and skeleton shape : (640, 640, 3) and image_and_skeleton shape : (640, 1280, 3)\n",
            "label_no : 38 and frame_no : 38 and detector_frame_no : 38\n",
            "frame shape : (720, 1280, 3) and skeleton shape : (640, 640, 3) and image_and_skeleton shape : (640, 1280, 3)\n",
            "label_no : 39 and frame_no : 39 and detector_frame_no : 39\n",
            "frame shape : (720, 1280, 3) and skeleton shape : (640, 640, 3) and image_and_skeleton shape : (640, 1280, 3)\n",
            "label_no : 40 and frame_no : 40 and detector_frame_no : 40\n",
            "frame shape : (720, 1280, 3) and skeleton shape : (640, 640, 3) and image_and_skeleton shape : (640, 1280, 3)\n",
            "label_no : 41 and frame_no : 41 and detector_frame_no : 41\n",
            "frame shape : (720, 1280, 3) and skeleton shape : (640, 640, 3) and image_and_skeleton shape : (640, 1280, 3)\n",
            "label_no : 42 and frame_no : 42 and detector_frame_no : 42\n",
            "frame shape : (720, 1280, 3) and skeleton shape : (640, 640, 3) and image_and_skeleton shape : (640, 1280, 3)\n",
            "label_no : 43 and frame_no : 43 and detector_frame_no : 43\n",
            "frame shape : (720, 1280, 3) and skeleton shape : (640, 640, 3) and image_and_skeleton shape : (640, 1280, 3)\n",
            "label_no : 44 and frame_no : 44 and detector_frame_no : 44\n",
            "frame shape : (720, 1280, 3) and skeleton shape : (640, 640, 3) and image_and_skeleton shape : (640, 1280, 3)\n",
            "label_no : 45 and frame_no : 45 and detector_frame_no : 45\n",
            "frame shape : (720, 1280, 3) and skeleton shape : (640, 640, 3) and image_and_skeleton shape : (640, 1280, 3)\n",
            "label_no : 46 and frame_no : 46 and detector_frame_no : 46\n",
            "frame shape : (720, 1280, 3) and skeleton shape : (640, 640, 3) and image_and_skeleton shape : (640, 1280, 3)\n",
            "label_no : 47 and frame_no : 47 and detector_frame_no : 47\n",
            "frame shape : (720, 1280, 3) and skeleton shape : (640, 640, 3) and image_and_skeleton shape : (640, 1280, 3)\n",
            "label_no : 48 and frame_no : 48 and detector_frame_no : 48\n",
            "frame shape : (720, 1280, 3) and skeleton shape : (640, 640, 3) and image_and_skeleton shape : (640, 1280, 3)\n",
            "label_no : 49 and frame_no : 49 and detector_frame_no : 49\n",
            "frame shape : (720, 1280, 3) and skeleton shape : (640, 640, 3) and image_and_skeleton shape : (640, 1280, 3)\n",
            "label_no : 50 and frame_no : 50 and detector_frame_no : 50\n",
            "frame shape : (720, 1280, 3) and skeleton shape : (640, 640, 3) and image_and_skeleton shape : (640, 1280, 3)\n",
            "label_no : 51 and frame_no : 51 and detector_frame_no : 51\n",
            "frame shape : (720, 1280, 3) and skeleton shape : (640, 640, 3) and image_and_skeleton shape : (640, 1280, 3)\n",
            "label_no : 52 and frame_no : 52 and detector_frame_no : 52\n",
            "frame shape : (720, 1280, 3) and skeleton shape : (640, 640, 3) and image_and_skeleton shape : (640, 1280, 3)\n",
            "label_no : 53 and frame_no : 53 and detector_frame_no : 53\n",
            "frame shape : (720, 1280, 3) and skeleton shape : (640, 640, 3) and image_and_skeleton shape : (640, 1280, 3)\n",
            "label_no : 54 and frame_no : 54 and detector_frame_no : 54\n",
            "frame shape : (720, 1280, 3) and skeleton shape : (640, 640, 3) and image_and_skeleton shape : (640, 1280, 3)\n",
            "label_no : 55 and frame_no : 55 and detector_frame_no : 55\n",
            "frame shape : (720, 1280, 3) and skeleton shape : (640, 640, 3) and image_and_skeleton shape : (640, 1280, 3)\n",
            "label_no : 56 and frame_no : 56 and detector_frame_no : 56\n",
            "frame shape : (720, 1280, 3) and skeleton shape : (640, 640, 3) and image_and_skeleton shape : (640, 1280, 3)\n",
            "label_no : 57 and frame_no : 57 and detector_frame_no : 57\n",
            "frame shape : (720, 1280, 3) and skeleton shape : (640, 640, 3) and image_and_skeleton shape : (640, 1280, 3)\n",
            "label_no : 58 and frame_no : 58 and detector_frame_no : 58\n",
            "frame shape : (720, 1280, 3) and skeleton shape : (640, 640, 3) and image_and_skeleton shape : (640, 1280, 3)\n",
            "label_no : 59 and frame_no : 59 and detector_frame_no : 59\n",
            "frame shape : (720, 1280, 3) and skeleton shape : (640, 640, 3) and image_and_skeleton shape : (640, 1280, 3)\n",
            "label_no : 60 and frame_no : 60 and detector_frame_no : 60\n",
            "frame shape : (720, 1280, 3) and skeleton shape : (640, 640, 3) and image_and_skeleton shape : (640, 1280, 3)\n",
            "label_no : 61 and frame_no : 61 and detector_frame_no : 61\n",
            "frame shape : (720, 1280, 3) and skeleton shape : (640, 640, 3) and image_and_skeleton shape : (640, 1280, 3)\n",
            "label_no : 62 and frame_no : 62 and detector_frame_no : 62\n",
            "frame shape : (720, 1280, 3) and skeleton shape : (640, 640, 3) and image_and_skeleton shape : (640, 1280, 3)\n",
            "label_no : 63 and frame_no : 63 and detector_frame_no : 63\n",
            "frame shape : (720, 1280, 3) and skeleton shape : (640, 640, 3) and image_and_skeleton shape : (640, 1280, 3)\n",
            "label_no : 64 and frame_no : 64 and detector_frame_no : 64\n",
            "frame shape : (720, 1280, 3) and skeleton shape : (640, 640, 3) and image_and_skeleton shape : (640, 1280, 3)\n",
            "label_no : 65 and frame_no : 65 and detector_frame_no : 65\n",
            "frame shape : (720, 1280, 3) and skeleton shape : (640, 640, 3) and image_and_skeleton shape : (640, 1280, 3)\n",
            "label_no : 66 and frame_no : 66 and detector_frame_no : 66\n",
            "frame shape : (720, 1280, 3) and skeleton shape : (640, 640, 3) and image_and_skeleton shape : (640, 1280, 3)\n",
            "label_no : 67 and frame_no : 67 and detector_frame_no : 67\n",
            "frame shape : (720, 1280, 3) and skeleton shape : (640, 640, 3) and image_and_skeleton shape : (640, 1280, 3)\n",
            "label_no : 68 and frame_no : 68 and detector_frame_no : 68\n",
            "frame shape : (720, 1280, 3) and skeleton shape : (640, 640, 3) and image_and_skeleton shape : (640, 1280, 3)\n",
            "label_no : 69 and frame_no : 69 and detector_frame_no : 69\n",
            "frame shape : (720, 1280, 3) and skeleton shape : (640, 640, 3) and image_and_skeleton shape : (640, 1280, 3)\n",
            "label_no : 70 and frame_no : 70 and detector_frame_no : 70\n",
            "frame shape : (720, 1280, 3) and skeleton shape : (640, 640, 3) and image_and_skeleton shape : (640, 1280, 3)\n",
            "label_no : 71 and frame_no : 71 and detector_frame_no : 71\n",
            "frame shape : (720, 1280, 3) and skeleton shape : (640, 640, 3) and image_and_skeleton shape : (640, 1280, 3)\n",
            "label_no : 72 and frame_no : 72 and detector_frame_no : 72\n",
            "frame shape : (720, 1280, 3) and skeleton shape : (640, 640, 3) and image_and_skeleton shape : (640, 1280, 3)\n",
            "label_no : 73 and frame_no : 73 and detector_frame_no : 73\n",
            "frame shape : (720, 1280, 3) and skeleton shape : (640, 640, 3) and image_and_skeleton shape : (640, 1280, 3)\n",
            "label_no : 74 and frame_no : 74 and detector_frame_no : 74\n",
            "frame shape : (720, 1280, 3) and skeleton shape : (640, 640, 3) and image_and_skeleton shape : (640, 1280, 3)\n",
            "label_no : 75 and frame_no : 75 and detector_frame_no : 75\n",
            "frame shape : (720, 1280, 3) and skeleton shape : (640, 640, 3) and image_and_skeleton shape : (640, 1280, 3)\n",
            "label_no : 76 and frame_no : 76 and detector_frame_no : 76\n",
            "frame shape : (720, 1280, 3) and skeleton shape : (640, 640, 3) and image_and_skeleton shape : (640, 1280, 3)\n",
            "label_no : 77 and frame_no : 77 and detector_frame_no : 77\n",
            "frame shape : (720, 1280, 3) and skeleton shape : (640, 640, 3) and image_and_skeleton shape : (640, 1280, 3)\n",
            "label_no : 78 and frame_no : 78 and detector_frame_no : 78\n",
            "frame shape : (720, 1280, 3) and skeleton shape : (640, 640, 3) and image_and_skeleton shape : (640, 1280, 3)\n",
            "label_no : 79 and frame_no : 79 and detector_frame_no : 79\n",
            "frame shape : (720, 1280, 3) and skeleton shape : (640, 640, 3) and image_and_skeleton shape : (640, 1280, 3)\n",
            "label_no : 80 and frame_no : 80 and detector_frame_no : 80\n",
            "frame shape : (720, 1280, 3) and skeleton shape : (640, 640, 3) and image_and_skeleton shape : (640, 1280, 3)\n",
            "label_no : 81 and frame_no : 81 and detector_frame_no : 81\n",
            "frame shape : (720, 1280, 3) and skeleton shape : (640, 640, 3) and image_and_skeleton shape : (640, 1280, 3)\n",
            "label_no : 82 and frame_no : 82 and detector_frame_no : 82\n",
            "frame shape : (720, 1280, 3) and skeleton shape : (640, 640, 3) and image_and_skeleton shape : (640, 1280, 3)\n",
            "label_no : 83 and frame_no : 83 and detector_frame_no : 83\n",
            "frame shape : (720, 1280, 3) and skeleton shape : (640, 640, 3) and image_and_skeleton shape : (640, 1280, 3)\n",
            "label_no : 84 and frame_no : 84 and detector_frame_no : 84\n",
            "frame shape : (720, 1280, 3) and skeleton shape : (640, 640, 3) and image_and_skeleton shape : (640, 1280, 3)\n",
            "label_no : 85 and frame_no : 85 and detector_frame_no : 85\n",
            "frame shape : (720, 1280, 3) and skeleton shape : (640, 640, 3) and image_and_skeleton shape : (640, 1280, 3)\n",
            "label_no : 86 and frame_no : 86 and detector_frame_no : 86\n",
            "frame shape : (720, 1280, 3) and skeleton shape : (640, 640, 3) and image_and_skeleton shape : (640, 1280, 3)\n",
            "label_no : 87 and frame_no : 87 and detector_frame_no : 87\n",
            "frame shape : (720, 1280, 3) and skeleton shape : (640, 640, 3) and image_and_skeleton shape : (640, 1280, 3)\n",
            "label_no : 88 and frame_no : 88 and detector_frame_no : 88\n",
            "frame shape : (720, 1280, 3) and skeleton shape : (640, 640, 3) and image_and_skeleton shape : (640, 1280, 3)\n",
            "label_no : 89 and frame_no : 89 and detector_frame_no : 89\n",
            "frame shape : (720, 1280, 3) and skeleton shape : (640, 640, 3) and image_and_skeleton shape : (640, 1280, 3)\n",
            "label_no : 90 and frame_no : 90 and detector_frame_no : 90\n",
            "frame shape : (720, 1280, 3) and skeleton shape : (640, 640, 3) and image_and_skeleton shape : (640, 1280, 3)\n",
            "label_no : 91 and frame_no : 91 and detector_frame_no : 91\n",
            "frame shape : (720, 1280, 3) and skeleton shape : (640, 640, 3) and image_and_skeleton shape : (640, 1280, 3)\n",
            "label_no : 92 and frame_no : 92 and detector_frame_no : 92\n",
            "frame shape : (720, 1280, 3) and skeleton shape : (640, 640, 3) and image_and_skeleton shape : (640, 1280, 3)\n",
            "label_no : 93 and frame_no : 93 and detector_frame_no : 93\n",
            "frame shape : (720, 1280, 3) and skeleton shape : (640, 640, 3) and image_and_skeleton shape : (640, 1280, 3)\n",
            "label_no : 94 and frame_no : 94 and detector_frame_no : 94\n",
            "frame shape : (720, 1280, 3) and skeleton shape : (640, 640, 3) and image_and_skeleton shape : (640, 1280, 3)\n",
            "label_no : 95 and frame_no : 95 and detector_frame_no : 95\n",
            "frame shape : (720, 1280, 3) and skeleton shape : (640, 640, 3) and image_and_skeleton shape : (640, 1280, 3)\n",
            "label_no : 96 and frame_no : 96 and detector_frame_no : 96\n",
            "frame shape : (720, 1280, 3) and skeleton shape : (640, 640, 3) and image_and_skeleton shape : (640, 1280, 3)\n",
            "label_no : 97 and frame_no : 97 and detector_frame_no : 97\n",
            "frame shape : (720, 1280, 3) and skeleton shape : (640, 640, 3) and image_and_skeleton shape : (640, 1280, 3)\n",
            "label_no : 98 and frame_no : 98 and detector_frame_no : 98\n",
            "frame shape : (720, 1280, 3) and skeleton shape : (640, 640, 3) and image_and_skeleton shape : (640, 1280, 3)\n",
            "label_no : 99 and frame_no : 99 and detector_frame_no : 99\n",
            "frame shape : (720, 1280, 3) and skeleton shape : (640, 640, 3) and image_and_skeleton shape : (640, 1280, 3)\n",
            "label_no : 100 and frame_no : 100 and detector_frame_no : 100\n",
            "frame shape : (720, 1280, 3) and skeleton shape : (640, 640, 3) and image_and_skeleton shape : (640, 1280, 3)\n",
            "label_no : 101 and frame_no : 101 and detector_frame_no : 101\n",
            "frame shape : (720, 1280, 3) and skeleton shape : (640, 640, 3) and image_and_skeleton shape : (640, 1280, 3)\n",
            "label_no : 102 and frame_no : 102 and detector_frame_no : 102\n",
            "frame shape : (720, 1280, 3) and skeleton shape : (640, 640, 3) and image_and_skeleton shape : (640, 1280, 3)\n",
            "label_no : 103 and frame_no : 103 and detector_frame_no : 103\n",
            "frame shape : (720, 1280, 3) and skeleton shape : (640, 640, 3) and image_and_skeleton shape : (640, 1280, 3)\n",
            "label_no : 104 and frame_no : 104 and detector_frame_no : 104\n",
            "frame shape : (720, 1280, 3) and skeleton shape : (640, 640, 3) and image_and_skeleton shape : (640, 1280, 3)\n",
            "label_no : 105 and frame_no : 105 and detector_frame_no : 105\n",
            "frame shape : (720, 1280, 3) and skeleton shape : (640, 640, 3) and image_and_skeleton shape : (640, 1280, 3)\n",
            "label_no : 106 and frame_no : 106 and detector_frame_no : 106\n",
            "frame shape : (720, 1280, 3) and skeleton shape : (640, 640, 3) and image_and_skeleton shape : (640, 1280, 3)\n",
            "label_no : 107 and frame_no : 107 and detector_frame_no : 107\n",
            "frame shape : (720, 1280, 3) and skeleton shape : (640, 640, 3) and image_and_skeleton shape : (640, 1280, 3)\n",
            "label_no : 108 and frame_no : 108 and detector_frame_no : 108\n",
            "frame shape : (720, 1280, 3) and skeleton shape : (640, 640, 3) and image_and_skeleton shape : (640, 1280, 3)\n",
            "label_no : 109 and frame_no : 109 and detector_frame_no : 109\n",
            "frame shape : (720, 1280, 3) and skeleton shape : (640, 640, 3) and image_and_skeleton shape : (640, 1280, 3)\n",
            "label_no : 110 and frame_no : 110 and detector_frame_no : 110\n",
            "frame shape : (720, 1280, 3) and skeleton shape : (640, 640, 3) and image_and_skeleton shape : (640, 1280, 3)\n",
            "label_no : 111 and frame_no : 111 and detector_frame_no : 111\n",
            "frame shape : (720, 1280, 3) and skeleton shape : (640, 640, 3) and image_and_skeleton shape : (640, 1280, 3)\n",
            "label_no : 112 and frame_no : 112 and detector_frame_no : 112\n",
            "frame shape : (720, 1280, 3) and skeleton shape : (640, 640, 3) and image_and_skeleton shape : (640, 1280, 3)\n",
            "label_no : 113 and frame_no : 113 and detector_frame_no : 113\n",
            "frame shape : (720, 1280, 3) and skeleton shape : (640, 640, 3) and image_and_skeleton shape : (640, 1280, 3)\n",
            "label_no : 114 and frame_no : 114 and detector_frame_no : 114\n",
            "frame shape : (720, 1280, 3) and skeleton shape : (640, 640, 3) and image_and_skeleton shape : (640, 1280, 3)\n",
            "label_no : 115 and frame_no : 115 and detector_frame_no : 115\n",
            "frame shape : (720, 1280, 3) and skeleton shape : (640, 640, 3) and image_and_skeleton shape : (640, 1280, 3)\n",
            "label_no : 116 and frame_no : 116 and detector_frame_no : 116\n",
            "frame shape : (720, 1280, 3) and skeleton shape : (640, 640, 3) and image_and_skeleton shape : (640, 1280, 3)\n",
            "label_no : 117 and frame_no : 117 and detector_frame_no : 117\n",
            "frame shape : (720, 1280, 3) and skeleton shape : (640, 640, 3) and image_and_skeleton shape : (640, 1280, 3)\n",
            "label_no : 118 and frame_no : 118 and detector_frame_no : 118\n",
            "frame shape : (720, 1280, 3) and skeleton shape : (640, 640, 3) and image_and_skeleton shape : (640, 1280, 3)\n",
            "label_no : 119 and frame_no : 119 and detector_frame_no : 119\n",
            "frame shape : (720, 1280, 3) and skeleton shape : (640, 640, 3) and image_and_skeleton shape : (640, 1280, 3)\n",
            "label_no : 120 and frame_no : 120 and detector_frame_no : 120\n",
            "frame shape : (720, 1280, 3) and skeleton shape : (640, 640, 3) and image_and_skeleton shape : (640, 1280, 3)\n",
            "label_no : 121 and frame_no : 121 and detector_frame_no : 121\n",
            "frame shape : (720, 1280, 3) and skeleton shape : (640, 640, 3) and image_and_skeleton shape : (640, 1280, 3)\n",
            "label_no : 122 and frame_no : 122 and detector_frame_no : 122\n",
            "frame shape : (720, 1280, 3) and skeleton shape : (640, 640, 3) and image_and_skeleton shape : (640, 1280, 3)\n",
            "label_no : 123 and frame_no : 123 and detector_frame_no : 123\n",
            "frame shape : (720, 1280, 3) and skeleton shape : (640, 640, 3) and image_and_skeleton shape : (640, 1280, 3)\n",
            "label_no : 124 and frame_no : 124 and detector_frame_no : 124\n",
            "frame shape : (720, 1280, 3) and skeleton shape : (640, 640, 3) and image_and_skeleton shape : (640, 1280, 3)\n",
            "label_no : 125 and frame_no : 125 and detector_frame_no : 125\n",
            "frame shape : (720, 1280, 3) and skeleton shape : (640, 640, 3) and image_and_skeleton shape : (640, 1280, 3)\n",
            "label_no : 126 and frame_no : 126 and detector_frame_no : 126\n",
            "frame shape : (720, 1280, 3) and skeleton shape : (640, 640, 3) and image_and_skeleton shape : (640, 1280, 3)\n",
            "label_no : 127 and frame_no : 127 and detector_frame_no : 127\n",
            "frame shape : (720, 1280, 3) and skeleton shape : (640, 640, 3) and image_and_skeleton shape : (640, 1280, 3)\n",
            "label_no : 128 and frame_no : 128 and detector_frame_no : 128\n",
            "frame shape : (720, 1280, 3) and skeleton shape : (640, 640, 3) and image_and_skeleton shape : (640, 1280, 3)\n",
            "label_no : 129 and frame_no : 129 and detector_frame_no : 129\n",
            "frame shape : (720, 1280, 3) and skeleton shape : (640, 640, 3) and image_and_skeleton shape : (640, 1280, 3)\n",
            "label_no : 130 and frame_no : 130 and detector_frame_no : 130\n",
            "frame shape : (720, 1280, 3) and skeleton shape : (640, 640, 3) and image_and_skeleton shape : (640, 1280, 3)\n",
            "label_no : 131 and frame_no : 131 and detector_frame_no : 131\n",
            "frame shape : (720, 1280, 3) and skeleton shape : (640, 640, 3) and image_and_skeleton shape : (640, 1280, 3)\n",
            "label_no : 132 and frame_no : 132 and detector_frame_no : 132\n",
            "frame shape : (720, 1280, 3) and skeleton shape : (640, 640, 3) and image_and_skeleton shape : (640, 1280, 3)\n",
            "label_no : 133 and frame_no : 133 and detector_frame_no : 133\n",
            "frame shape : (720, 1280, 3) and skeleton shape : (640, 640, 3) and image_and_skeleton shape : (640, 1280, 3)\n",
            "label_no : 134 and frame_no : 134 and detector_frame_no : 134\n",
            "frame shape : (720, 1280, 3) and skeleton shape : (640, 640, 3) and image_and_skeleton shape : (640, 1280, 3)\n",
            "label_no : 135 and frame_no : 135 and detector_frame_no : 135\n",
            "frame shape : (720, 1280, 3) and skeleton shape : (640, 640, 3) and image_and_skeleton shape : (640, 1280, 3)\n",
            "label_no : 136 and frame_no : 136 and detector_frame_no : 136\n",
            "frame shape : (720, 1280, 3) and skeleton shape : (640, 640, 3) and image_and_skeleton shape : (640, 1280, 3)\n",
            "label_no : 137 and frame_no : 137 and detector_frame_no : 137\n",
            "frame shape : (720, 1280, 3) and skeleton shape : (640, 640, 3) and image_and_skeleton shape : (640, 1280, 3)\n",
            "label_no : 138 and frame_no : 138 and detector_frame_no : 138\n",
            "frame shape : (720, 1280, 3) and skeleton shape : (640, 640, 3) and image_and_skeleton shape : (640, 1280, 3)\n",
            "label_no : 139 and frame_no : 139 and detector_frame_no : 139\n",
            "frame shape : (720, 1280, 3) and skeleton shape : (640, 640, 3) and image_and_skeleton shape : (640, 1280, 3)\n",
            "label_no : 140 and frame_no : 140 and detector_frame_no : 140\n",
            "frame shape : (720, 1280, 3) and skeleton shape : (640, 640, 3) and image_and_skeleton shape : (640, 1280, 3)\n",
            "label_no : 141 and frame_no : 141 and detector_frame_no : 141\n",
            "frame shape : (720, 1280, 3) and skeleton shape : (640, 640, 3) and image_and_skeleton shape : (640, 1280, 3)\n",
            "label_no : 142 and frame_no : 142 and detector_frame_no : 142\n",
            "frame shape : (720, 1280, 3) and skeleton shape : (640, 640, 3) and image_and_skeleton shape : (640, 1280, 3)\n",
            "label_no : 143 and frame_no : 143 and detector_frame_no : 143\n",
            "frame shape : (720, 1280, 3) and skeleton shape : (640, 640, 3) and image_and_skeleton shape : (640, 1280, 3)\n",
            "label_no : 144 and frame_no : 144 and detector_frame_no : 144\n",
            "frame shape : (720, 1280, 3) and skeleton shape : (640, 640, 3) and image_and_skeleton shape : (640, 1280, 3)\n",
            "label_no : 145 and frame_no : 145 and detector_frame_no : 145\n",
            "frame shape : (720, 1280, 3) and skeleton shape : (640, 640, 3) and image_and_skeleton shape : (640, 1280, 3)\n",
            "label_no : 146 and frame_no : 146 and detector_frame_no : 146\n",
            "frame shape : (720, 1280, 3) and skeleton shape : (640, 640, 3) and image_and_skeleton shape : (640, 1280, 3)\n",
            "label_no : 147 and frame_no : 147 and detector_frame_no : 147\n",
            "frame shape : (720, 1280, 3) and skeleton shape : (640, 640, 3) and image_and_skeleton shape : (640, 1280, 3)\n",
            "label_no : 148 and frame_no : 148 and detector_frame_no : 148\n",
            "frame shape : (720, 1280, 3) and skeleton shape : (640, 640, 3) and image_and_skeleton shape : (640, 1280, 3)\n",
            "label_no : 149 and frame_no : 149 and detector_frame_no : 149\n",
            "frame shape : (720, 1280, 3) and skeleton shape : (640, 640, 3) and image_and_skeleton shape : (640, 1280, 3)\n",
            "label_no : 150 and frame_no : 150 and detector_frame_no : 150\n",
            "frame shape : (720, 1280, 3) and skeleton shape : (640, 640, 3) and image_and_skeleton shape : (640, 1280, 3)\n",
            "label_no : 151 and frame_no : 151 and detector_frame_no : 151\n",
            "frame shape : (720, 1280, 3) and skeleton shape : (640, 640, 3) and image_and_skeleton shape : (640, 1280, 3)\n",
            "label_no : 152 and frame_no : 152 and detector_frame_no : 152\n",
            "frame shape : (720, 1280, 3) and skeleton shape : (640, 640, 3) and image_and_skeleton shape : (640, 1280, 3)\n",
            "label_no : 153 and frame_no : 153 and detector_frame_no : 153\n",
            "frame shape : (720, 1280, 3) and skeleton shape : (640, 640, 3) and image_and_skeleton shape : (640, 1280, 3)\n",
            "label_no : 154 and frame_no : 154 and detector_frame_no : 154\n",
            "frame shape : (720, 1280, 3) and skeleton shape : (640, 640, 3) and image_and_skeleton shape : (640, 1280, 3)\n",
            "label_no : 155 and frame_no : 155 and detector_frame_no : 155\n",
            "frame shape : (720, 1280, 3) and skeleton shape : (640, 640, 3) and image_and_skeleton shape : (640, 1280, 3)\n",
            "label_no : 156 and frame_no : 156 and detector_frame_no : 156\n",
            "frame shape : (720, 1280, 3) and skeleton shape : (640, 640, 3) and image_and_skeleton shape : (640, 1280, 3)\n",
            "label_no : 157 and frame_no : 157 and detector_frame_no : 157\n",
            "frame shape : (720, 1280, 3) and skeleton shape : (640, 640, 3) and image_and_skeleton shape : (640, 1280, 3)\n",
            "label_no : 158 and frame_no : 158 and detector_frame_no : 158\n",
            "frame shape : (720, 1280, 3) and skeleton shape : (640, 640, 3) and image_and_skeleton shape : (640, 1280, 3)\n",
            "label_no : 159 and frame_no : 159 and detector_frame_no : 159\n",
            "frame shape : (720, 1280, 3) and skeleton shape : (640, 640, 3) and image_and_skeleton shape : (640, 1280, 3)\n",
            "label_no : 160 and frame_no : 160 and detector_frame_no : 160\n",
            "frame shape : (720, 1280, 3) and skeleton shape : (640, 640, 3) and image_and_skeleton shape : (640, 1280, 3)\n",
            "label_no : 161 and frame_no : 161 and detector_frame_no : 161\n",
            "frame shape : (720, 1280, 3) and skeleton shape : (640, 640, 3) and image_and_skeleton shape : (640, 1280, 3)\n",
            "label_no : 162 and frame_no : 162 and detector_frame_no : 162\n",
            "frame shape : (720, 1280, 3) and skeleton shape : (640, 640, 3) and image_and_skeleton shape : (640, 1280, 3)\n",
            "label_no : 163 and frame_no : 163 and detector_frame_no : 163\n",
            "frame shape : (720, 1280, 3) and skeleton shape : (640, 640, 3) and image_and_skeleton shape : (640, 1280, 3)\n",
            "label_no : 164 and frame_no : 164 and detector_frame_no : 164\n",
            "frame shape : (720, 1280, 3) and skeleton shape : (640, 640, 3) and image_and_skeleton shape : (640, 1280, 3)\n",
            "label_no : 165 and frame_no : 165 and detector_frame_no : 165\n",
            "frame shape : (720, 1280, 3) and skeleton shape : (640, 640, 3) and image_and_skeleton shape : (640, 1280, 3)\n",
            "label_no : 166 and frame_no : 166 and detector_frame_no : 166\n",
            "frame shape : (720, 1280, 3) and skeleton shape : (640, 640, 3) and image_and_skeleton shape : (640, 1280, 3)\n",
            "label_no : 167 and frame_no : 167 and detector_frame_no : 167\n"
          ]
        },
        {
          "output_type": "display_data",
          "data": {
            "text/plain": [
              "<Figure size 1080x720 with 0 Axes>"
            ]
          },
          "metadata": {}
        },
        {
          "output_type": "display_data",
          "data": {
            "text/plain": [
              "<Figure size 1080x720 with 0 Axes>"
            ]
          },
          "metadata": {}
        },
        {
          "output_type": "display_data",
          "data": {
            "text/plain": [
              "<Figure size 1080x720 with 0 Axes>"
            ]
          },
          "metadata": {}
        },
        {
          "output_type": "display_data",
          "data": {
            "text/plain": [
              "<Figure size 1080x720 with 0 Axes>"
            ]
          },
          "metadata": {}
        },
        {
          "output_type": "display_data",
          "data": {
            "text/plain": [
              "<Figure size 1080x720 with 0 Axes>"
            ]
          },
          "metadata": {}
        },
        {
          "output_type": "display_data",
          "data": {
            "text/plain": [
              "<Figure size 1080x720 with 0 Axes>"
            ]
          },
          "metadata": {}
        },
        {
          "output_type": "display_data",
          "data": {
            "text/plain": [
              "<Figure size 1080x720 with 0 Axes>"
            ]
          },
          "metadata": {}
        },
        {
          "output_type": "display_data",
          "data": {
            "text/plain": [
              "<Figure size 1080x720 with 0 Axes>"
            ]
          },
          "metadata": {}
        },
        {
          "output_type": "display_data",
          "data": {
            "text/plain": [
              "<Figure size 1080x720 with 0 Axes>"
            ]
          },
          "metadata": {}
        },
        {
          "output_type": "display_data",
          "data": {
            "text/plain": [
              "<Figure size 1080x720 with 0 Axes>"
            ]
          },
          "metadata": {}
        },
        {
          "output_type": "display_data",
          "data": {
            "text/plain": [
              "<Figure size 1080x720 with 0 Axes>"
            ]
          },
          "metadata": {}
        },
        {
          "output_type": "display_data",
          "data": {
            "text/plain": [
              "<Figure size 1080x720 with 0 Axes>"
            ]
          },
          "metadata": {}
        },
        {
          "output_type": "display_data",
          "data": {
            "text/plain": [
              "<Figure size 1080x720 with 0 Axes>"
            ]
          },
          "metadata": {}
        },
        {
          "output_type": "display_data",
          "data": {
            "text/plain": [
              "<Figure size 1080x720 with 0 Axes>"
            ]
          },
          "metadata": {}
        },
        {
          "output_type": "display_data",
          "data": {
            "text/plain": [
              "<Figure size 1080x720 with 0 Axes>"
            ]
          },
          "metadata": {}
        },
        {
          "output_type": "display_data",
          "data": {
            "text/plain": [
              "<Figure size 1080x720 with 0 Axes>"
            ]
          },
          "metadata": {}
        },
        {
          "output_type": "display_data",
          "data": {
            "text/plain": [
              "<Figure size 1080x720 with 0 Axes>"
            ]
          },
          "metadata": {}
        },
        {
          "output_type": "display_data",
          "data": {
            "text/plain": [
              "<Figure size 1080x720 with 0 Axes>"
            ]
          },
          "metadata": {}
        },
        {
          "output_type": "display_data",
          "data": {
            "text/plain": [
              "<Figure size 1080x720 with 0 Axes>"
            ]
          },
          "metadata": {}
        },
        {
          "output_type": "display_data",
          "data": {
            "text/plain": [
              "<Figure size 1080x720 with 0 Axes>"
            ]
          },
          "metadata": {}
        },
        {
          "output_type": "display_data",
          "data": {
            "text/plain": [
              "<Figure size 1080x720 with 0 Axes>"
            ]
          },
          "metadata": {}
        },
        {
          "output_type": "display_data",
          "data": {
            "text/plain": [
              "<Figure size 1080x720 with 0 Axes>"
            ]
          },
          "metadata": {}
        },
        {
          "output_type": "display_data",
          "data": {
            "text/plain": [
              "<Figure size 1080x720 with 0 Axes>"
            ]
          },
          "metadata": {}
        },
        {
          "output_type": "display_data",
          "data": {
            "text/plain": [
              "<Figure size 1080x720 with 0 Axes>"
            ]
          },
          "metadata": {}
        },
        {
          "output_type": "display_data",
          "data": {
            "text/plain": [
              "<Figure size 1080x720 with 0 Axes>"
            ]
          },
          "metadata": {}
        },
        {
          "output_type": "display_data",
          "data": {
            "text/plain": [
              "<Figure size 1080x720 with 0 Axes>"
            ]
          },
          "metadata": {}
        },
        {
          "output_type": "display_data",
          "data": {
            "text/plain": [
              "<Figure size 1080x720 with 0 Axes>"
            ]
          },
          "metadata": {}
        },
        {
          "output_type": "display_data",
          "data": {
            "text/plain": [
              "<Figure size 1080x720 with 0 Axes>"
            ]
          },
          "metadata": {}
        },
        {
          "output_type": "display_data",
          "data": {
            "text/plain": [
              "<Figure size 1080x720 with 0 Axes>"
            ]
          },
          "metadata": {}
        },
        {
          "output_type": "display_data",
          "data": {
            "text/plain": [
              "<Figure size 1080x720 with 0 Axes>"
            ]
          },
          "metadata": {}
        },
        {
          "output_type": "display_data",
          "data": {
            "text/plain": [
              "<Figure size 1080x720 with 0 Axes>"
            ]
          },
          "metadata": {}
        },
        {
          "output_type": "display_data",
          "data": {
            "text/plain": [
              "<Figure size 1080x720 with 0 Axes>"
            ]
          },
          "metadata": {}
        },
        {
          "output_type": "display_data",
          "data": {
            "text/plain": [
              "<Figure size 1080x720 with 0 Axes>"
            ]
          },
          "metadata": {}
        },
        {
          "output_type": "display_data",
          "data": {
            "text/plain": [
              "<Figure size 1080x720 with 0 Axes>"
            ]
          },
          "metadata": {}
        },
        {
          "output_type": "display_data",
          "data": {
            "text/plain": [
              "<Figure size 1080x720 with 0 Axes>"
            ]
          },
          "metadata": {}
        },
        {
          "output_type": "display_data",
          "data": {
            "text/plain": [
              "<Figure size 1080x720 with 0 Axes>"
            ]
          },
          "metadata": {}
        },
        {
          "output_type": "display_data",
          "data": {
            "text/plain": [
              "<Figure size 1080x720 with 0 Axes>"
            ]
          },
          "metadata": {}
        },
        {
          "output_type": "display_data",
          "data": {
            "text/plain": [
              "<Figure size 1080x720 with 0 Axes>"
            ]
          },
          "metadata": {}
        },
        {
          "output_type": "display_data",
          "data": {
            "text/plain": [
              "<Figure size 1080x720 with 0 Axes>"
            ]
          },
          "metadata": {}
        },
        {
          "output_type": "display_data",
          "data": {
            "text/plain": [
              "<Figure size 1080x720 with 0 Axes>"
            ]
          },
          "metadata": {}
        },
        {
          "output_type": "display_data",
          "data": {
            "text/plain": [
              "<Figure size 1080x720 with 0 Axes>"
            ]
          },
          "metadata": {}
        },
        {
          "output_type": "display_data",
          "data": {
            "text/plain": [
              "<Figure size 1080x720 with 0 Axes>"
            ]
          },
          "metadata": {}
        },
        {
          "output_type": "display_data",
          "data": {
            "text/plain": [
              "<Figure size 1080x720 with 0 Axes>"
            ]
          },
          "metadata": {}
        },
        {
          "output_type": "display_data",
          "data": {
            "text/plain": [
              "<Figure size 1080x720 with 0 Axes>"
            ]
          },
          "metadata": {}
        },
        {
          "output_type": "display_data",
          "data": {
            "text/plain": [
              "<Figure size 1080x720 with 0 Axes>"
            ]
          },
          "metadata": {}
        },
        {
          "output_type": "display_data",
          "data": {
            "text/plain": [
              "<Figure size 1080x720 with 0 Axes>"
            ]
          },
          "metadata": {}
        },
        {
          "output_type": "display_data",
          "data": {
            "text/plain": [
              "<Figure size 1080x720 with 0 Axes>"
            ]
          },
          "metadata": {}
        },
        {
          "output_type": "display_data",
          "data": {
            "text/plain": [
              "<Figure size 1080x720 with 0 Axes>"
            ]
          },
          "metadata": {}
        },
        {
          "output_type": "display_data",
          "data": {
            "text/plain": [
              "<Figure size 1080x720 with 0 Axes>"
            ]
          },
          "metadata": {}
        },
        {
          "output_type": "display_data",
          "data": {
            "text/plain": [
              "<Figure size 1080x720 with 0 Axes>"
            ]
          },
          "metadata": {}
        },
        {
          "output_type": "display_data",
          "data": {
            "text/plain": [
              "<Figure size 1080x720 with 0 Axes>"
            ]
          },
          "metadata": {}
        },
        {
          "output_type": "display_data",
          "data": {
            "text/plain": [
              "<Figure size 1080x720 with 0 Axes>"
            ]
          },
          "metadata": {}
        },
        {
          "output_type": "display_data",
          "data": {
            "text/plain": [
              "<Figure size 1080x720 with 0 Axes>"
            ]
          },
          "metadata": {}
        },
        {
          "output_type": "display_data",
          "data": {
            "text/plain": [
              "<Figure size 1080x720 with 0 Axes>"
            ]
          },
          "metadata": {}
        },
        {
          "output_type": "display_data",
          "data": {
            "text/plain": [
              "<Figure size 1080x720 with 0 Axes>"
            ]
          },
          "metadata": {}
        },
        {
          "output_type": "display_data",
          "data": {
            "text/plain": [
              "<Figure size 1080x720 with 0 Axes>"
            ]
          },
          "metadata": {}
        },
        {
          "output_type": "display_data",
          "data": {
            "text/plain": [
              "<Figure size 1080x720 with 0 Axes>"
            ]
          },
          "metadata": {}
        },
        {
          "output_type": "display_data",
          "data": {
            "text/plain": [
              "<Figure size 1080x720 with 0 Axes>"
            ]
          },
          "metadata": {}
        },
        {
          "output_type": "display_data",
          "data": {
            "text/plain": [
              "<Figure size 1080x720 with 0 Axes>"
            ]
          },
          "metadata": {}
        },
        {
          "output_type": "display_data",
          "data": {
            "text/plain": [
              "<Figure size 1080x720 with 0 Axes>"
            ]
          },
          "metadata": {}
        },
        {
          "output_type": "display_data",
          "data": {
            "text/plain": [
              "<Figure size 1080x720 with 0 Axes>"
            ]
          },
          "metadata": {}
        },
        {
          "output_type": "display_data",
          "data": {
            "text/plain": [
              "<Figure size 1080x720 with 0 Axes>"
            ]
          },
          "metadata": {}
        },
        {
          "output_type": "display_data",
          "data": {
            "text/plain": [
              "<Figure size 1080x720 with 0 Axes>"
            ]
          },
          "metadata": {}
        },
        {
          "output_type": "display_data",
          "data": {
            "text/plain": [
              "<Figure size 1080x720 with 0 Axes>"
            ]
          },
          "metadata": {}
        },
        {
          "output_type": "display_data",
          "data": {
            "text/plain": [
              "<Figure size 1080x720 with 0 Axes>"
            ]
          },
          "metadata": {}
        },
        {
          "output_type": "display_data",
          "data": {
            "text/plain": [
              "<Figure size 1080x720 with 0 Axes>"
            ]
          },
          "metadata": {}
        },
        {
          "output_type": "display_data",
          "data": {
            "text/plain": [
              "<Figure size 1080x720 with 0 Axes>"
            ]
          },
          "metadata": {}
        },
        {
          "output_type": "display_data",
          "data": {
            "text/plain": [
              "<Figure size 1080x720 with 0 Axes>"
            ]
          },
          "metadata": {}
        },
        {
          "output_type": "display_data",
          "data": {
            "text/plain": [
              "<Figure size 1080x720 with 0 Axes>"
            ]
          },
          "metadata": {}
        },
        {
          "output_type": "display_data",
          "data": {
            "text/plain": [
              "<Figure size 1080x720 with 0 Axes>"
            ]
          },
          "metadata": {}
        },
        {
          "output_type": "display_data",
          "data": {
            "text/plain": [
              "<Figure size 1080x720 with 0 Axes>"
            ]
          },
          "metadata": {}
        },
        {
          "output_type": "display_data",
          "data": {
            "text/plain": [
              "<Figure size 1080x720 with 0 Axes>"
            ]
          },
          "metadata": {}
        },
        {
          "output_type": "display_data",
          "data": {
            "text/plain": [
              "<Figure size 1080x720 with 0 Axes>"
            ]
          },
          "metadata": {}
        },
        {
          "output_type": "display_data",
          "data": {
            "text/plain": [
              "<Figure size 1080x720 with 0 Axes>"
            ]
          },
          "metadata": {}
        },
        {
          "output_type": "display_data",
          "data": {
            "text/plain": [
              "<Figure size 1080x720 with 0 Axes>"
            ]
          },
          "metadata": {}
        },
        {
          "output_type": "display_data",
          "data": {
            "text/plain": [
              "<Figure size 1080x720 with 0 Axes>"
            ]
          },
          "metadata": {}
        },
        {
          "output_type": "display_data",
          "data": {
            "text/plain": [
              "<Figure size 1080x720 with 0 Axes>"
            ]
          },
          "metadata": {}
        },
        {
          "output_type": "display_data",
          "data": {
            "text/plain": [
              "<Figure size 1080x720 with 0 Axes>"
            ]
          },
          "metadata": {}
        },
        {
          "output_type": "display_data",
          "data": {
            "text/plain": [
              "<Figure size 1080x720 with 0 Axes>"
            ]
          },
          "metadata": {}
        },
        {
          "output_type": "display_data",
          "data": {
            "text/plain": [
              "<Figure size 1080x720 with 0 Axes>"
            ]
          },
          "metadata": {}
        },
        {
          "output_type": "display_data",
          "data": {
            "text/plain": [
              "<Figure size 1080x720 with 0 Axes>"
            ]
          },
          "metadata": {}
        },
        {
          "output_type": "display_data",
          "data": {
            "text/plain": [
              "<Figure size 1080x720 with 0 Axes>"
            ]
          },
          "metadata": {}
        },
        {
          "output_type": "display_data",
          "data": {
            "text/plain": [
              "<Figure size 1080x720 with 0 Axes>"
            ]
          },
          "metadata": {}
        },
        {
          "output_type": "display_data",
          "data": {
            "text/plain": [
              "<Figure size 1080x720 with 0 Axes>"
            ]
          },
          "metadata": {}
        },
        {
          "output_type": "display_data",
          "data": {
            "text/plain": [
              "<Figure size 1080x720 with 0 Axes>"
            ]
          },
          "metadata": {}
        },
        {
          "output_type": "display_data",
          "data": {
            "text/plain": [
              "<Figure size 1080x720 with 0 Axes>"
            ]
          },
          "metadata": {}
        },
        {
          "output_type": "display_data",
          "data": {
            "text/plain": [
              "<Figure size 1080x720 with 0 Axes>"
            ]
          },
          "metadata": {}
        },
        {
          "output_type": "display_data",
          "data": {
            "text/plain": [
              "<Figure size 1080x720 with 0 Axes>"
            ]
          },
          "metadata": {}
        },
        {
          "output_type": "display_data",
          "data": {
            "text/plain": [
              "<Figure size 1080x720 with 0 Axes>"
            ]
          },
          "metadata": {}
        },
        {
          "output_type": "display_data",
          "data": {
            "text/plain": [
              "<Figure size 1080x720 with 0 Axes>"
            ]
          },
          "metadata": {}
        },
        {
          "output_type": "display_data",
          "data": {
            "text/plain": [
              "<Figure size 1080x720 with 0 Axes>"
            ]
          },
          "metadata": {}
        },
        {
          "output_type": "display_data",
          "data": {
            "text/plain": [
              "<Figure size 1080x720 with 0 Axes>"
            ]
          },
          "metadata": {}
        },
        {
          "output_type": "display_data",
          "data": {
            "text/plain": [
              "<Figure size 1080x720 with 0 Axes>"
            ]
          },
          "metadata": {}
        },
        {
          "output_type": "display_data",
          "data": {
            "text/plain": [
              "<Figure size 1080x720 with 0 Axes>"
            ]
          },
          "metadata": {}
        },
        {
          "output_type": "display_data",
          "data": {
            "text/plain": [
              "<Figure size 1080x720 with 0 Axes>"
            ]
          },
          "metadata": {}
        },
        {
          "output_type": "display_data",
          "data": {
            "text/plain": [
              "<Figure size 1080x720 with 0 Axes>"
            ]
          },
          "metadata": {}
        },
        {
          "output_type": "display_data",
          "data": {
            "text/plain": [
              "<Figure size 1080x720 with 0 Axes>"
            ]
          },
          "metadata": {}
        },
        {
          "output_type": "display_data",
          "data": {
            "text/plain": [
              "<Figure size 1080x720 with 0 Axes>"
            ]
          },
          "metadata": {}
        },
        {
          "output_type": "display_data",
          "data": {
            "text/plain": [
              "<Figure size 1080x720 with 0 Axes>"
            ]
          },
          "metadata": {}
        },
        {
          "output_type": "display_data",
          "data": {
            "text/plain": [
              "<Figure size 1080x720 with 0 Axes>"
            ]
          },
          "metadata": {}
        },
        {
          "output_type": "display_data",
          "data": {
            "text/plain": [
              "<Figure size 1080x720 with 0 Axes>"
            ]
          },
          "metadata": {}
        },
        {
          "output_type": "display_data",
          "data": {
            "text/plain": [
              "<Figure size 1080x720 with 0 Axes>"
            ]
          },
          "metadata": {}
        },
        {
          "output_type": "display_data",
          "data": {
            "text/plain": [
              "<Figure size 1080x720 with 0 Axes>"
            ]
          },
          "metadata": {}
        },
        {
          "output_type": "display_data",
          "data": {
            "text/plain": [
              "<Figure size 1080x720 with 0 Axes>"
            ]
          },
          "metadata": {}
        },
        {
          "output_type": "display_data",
          "data": {
            "text/plain": [
              "<Figure size 1080x720 with 0 Axes>"
            ]
          },
          "metadata": {}
        },
        {
          "output_type": "display_data",
          "data": {
            "text/plain": [
              "<Figure size 1080x720 with 0 Axes>"
            ]
          },
          "metadata": {}
        },
        {
          "output_type": "display_data",
          "data": {
            "text/plain": [
              "<Figure size 1080x720 with 0 Axes>"
            ]
          },
          "metadata": {}
        },
        {
          "output_type": "display_data",
          "data": {
            "text/plain": [
              "<Figure size 1080x720 with 0 Axes>"
            ]
          },
          "metadata": {}
        },
        {
          "output_type": "display_data",
          "data": {
            "text/plain": [
              "<Figure size 1080x720 with 0 Axes>"
            ]
          },
          "metadata": {}
        },
        {
          "output_type": "display_data",
          "data": {
            "text/plain": [
              "<Figure size 1080x720 with 0 Axes>"
            ]
          },
          "metadata": {}
        },
        {
          "output_type": "display_data",
          "data": {
            "text/plain": [
              "<Figure size 1080x720 with 0 Axes>"
            ]
          },
          "metadata": {}
        },
        {
          "output_type": "display_data",
          "data": {
            "text/plain": [
              "<Figure size 1080x720 with 0 Axes>"
            ]
          },
          "metadata": {}
        },
        {
          "output_type": "display_data",
          "data": {
            "text/plain": [
              "<Figure size 1080x720 with 0 Axes>"
            ]
          },
          "metadata": {}
        },
        {
          "output_type": "display_data",
          "data": {
            "text/plain": [
              "<Figure size 1080x720 with 0 Axes>"
            ]
          },
          "metadata": {}
        },
        {
          "output_type": "display_data",
          "data": {
            "text/plain": [
              "<Figure size 1080x720 with 0 Axes>"
            ]
          },
          "metadata": {}
        },
        {
          "output_type": "display_data",
          "data": {
            "text/plain": [
              "<Figure size 1080x720 with 0 Axes>"
            ]
          },
          "metadata": {}
        },
        {
          "output_type": "display_data",
          "data": {
            "text/plain": [
              "<Figure size 1080x720 with 0 Axes>"
            ]
          },
          "metadata": {}
        },
        {
          "output_type": "display_data",
          "data": {
            "text/plain": [
              "<Figure size 1080x720 with 0 Axes>"
            ]
          },
          "metadata": {}
        },
        {
          "output_type": "display_data",
          "data": {
            "text/plain": [
              "<Figure size 1080x720 with 0 Axes>"
            ]
          },
          "metadata": {}
        },
        {
          "output_type": "display_data",
          "data": {
            "text/plain": [
              "<Figure size 1080x720 with 0 Axes>"
            ]
          },
          "metadata": {}
        },
        {
          "output_type": "display_data",
          "data": {
            "text/plain": [
              "<Figure size 1080x720 with 0 Axes>"
            ]
          },
          "metadata": {}
        },
        {
          "output_type": "display_data",
          "data": {
            "text/plain": [
              "<Figure size 1080x720 with 0 Axes>"
            ]
          },
          "metadata": {}
        },
        {
          "output_type": "display_data",
          "data": {
            "text/plain": [
              "<Figure size 1080x720 with 0 Axes>"
            ]
          },
          "metadata": {}
        },
        {
          "output_type": "display_data",
          "data": {
            "text/plain": [
              "<Figure size 1080x720 with 0 Axes>"
            ]
          },
          "metadata": {}
        },
        {
          "output_type": "display_data",
          "data": {
            "text/plain": [
              "<Figure size 1080x720 with 0 Axes>"
            ]
          },
          "metadata": {}
        },
        {
          "output_type": "display_data",
          "data": {
            "text/plain": [
              "<Figure size 1080x720 with 0 Axes>"
            ]
          },
          "metadata": {}
        },
        {
          "output_type": "display_data",
          "data": {
            "text/plain": [
              "<Figure size 1080x720 with 0 Axes>"
            ]
          },
          "metadata": {}
        },
        {
          "output_type": "display_data",
          "data": {
            "text/plain": [
              "<Figure size 1080x720 with 0 Axes>"
            ]
          },
          "metadata": {}
        },
        {
          "output_type": "display_data",
          "data": {
            "text/plain": [
              "<Figure size 1080x720 with 0 Axes>"
            ]
          },
          "metadata": {}
        },
        {
          "output_type": "display_data",
          "data": {
            "text/plain": [
              "<Figure size 1080x720 with 0 Axes>"
            ]
          },
          "metadata": {}
        },
        {
          "output_type": "display_data",
          "data": {
            "text/plain": [
              "<Figure size 1080x720 with 0 Axes>"
            ]
          },
          "metadata": {}
        },
        {
          "output_type": "display_data",
          "data": {
            "text/plain": [
              "<Figure size 1080x720 with 0 Axes>"
            ]
          },
          "metadata": {}
        },
        {
          "output_type": "display_data",
          "data": {
            "text/plain": [
              "<Figure size 1080x720 with 0 Axes>"
            ]
          },
          "metadata": {}
        },
        {
          "output_type": "display_data",
          "data": {
            "text/plain": [
              "<Figure size 1080x720 with 0 Axes>"
            ]
          },
          "metadata": {}
        },
        {
          "output_type": "display_data",
          "data": {
            "text/plain": [
              "<Figure size 1080x720 with 0 Axes>"
            ]
          },
          "metadata": {}
        },
        {
          "output_type": "display_data",
          "data": {
            "text/plain": [
              "<Figure size 1080x720 with 0 Axes>"
            ]
          },
          "metadata": {}
        },
        {
          "output_type": "display_data",
          "data": {
            "text/plain": [
              "<Figure size 1080x720 with 0 Axes>"
            ]
          },
          "metadata": {}
        },
        {
          "output_type": "display_data",
          "data": {
            "text/plain": [
              "<Figure size 1080x720 with 0 Axes>"
            ]
          },
          "metadata": {}
        },
        {
          "output_type": "display_data",
          "data": {
            "text/plain": [
              "<Figure size 1080x720 with 0 Axes>"
            ]
          },
          "metadata": {}
        },
        {
          "output_type": "display_data",
          "data": {
            "text/plain": [
              "<Figure size 1080x720 with 0 Axes>"
            ]
          },
          "metadata": {}
        },
        {
          "output_type": "display_data",
          "data": {
            "text/plain": [
              "<Figure size 1080x720 with 0 Axes>"
            ]
          },
          "metadata": {}
        },
        {
          "output_type": "display_data",
          "data": {
            "text/plain": [
              "<Figure size 1080x720 with 0 Axes>"
            ]
          },
          "metadata": {}
        },
        {
          "output_type": "display_data",
          "data": {
            "text/plain": [
              "<Figure size 1080x720 with 0 Axes>"
            ]
          },
          "metadata": {}
        },
        {
          "output_type": "display_data",
          "data": {
            "text/plain": [
              "<Figure size 1080x720 with 0 Axes>"
            ]
          },
          "metadata": {}
        },
        {
          "output_type": "display_data",
          "data": {
            "text/plain": [
              "<Figure size 1080x720 with 0 Axes>"
            ]
          },
          "metadata": {}
        },
        {
          "output_type": "display_data",
          "data": {
            "text/plain": [
              "<Figure size 1080x720 with 0 Axes>"
            ]
          },
          "metadata": {}
        },
        {
          "output_type": "display_data",
          "data": {
            "text/plain": [
              "<Figure size 1080x720 with 0 Axes>"
            ]
          },
          "metadata": {}
        },
        {
          "output_type": "display_data",
          "data": {
            "text/plain": [
              "<Figure size 1080x720 with 0 Axes>"
            ]
          },
          "metadata": {}
        },
        {
          "output_type": "display_data",
          "data": {
            "text/plain": [
              "<Figure size 1080x720 with 0 Axes>"
            ]
          },
          "metadata": {}
        },
        {
          "output_type": "display_data",
          "data": {
            "text/plain": [
              "<Figure size 1080x720 with 0 Axes>"
            ]
          },
          "metadata": {}
        },
        {
          "output_type": "display_data",
          "data": {
            "text/plain": [
              "<Figure size 1080x720 with 0 Axes>"
            ]
          },
          "metadata": {}
        },
        {
          "output_type": "display_data",
          "data": {
            "text/plain": [
              "<Figure size 1080x720 with 0 Axes>"
            ]
          },
          "metadata": {}
        },
        {
          "output_type": "display_data",
          "data": {
            "text/plain": [
              "<Figure size 1080x720 with 0 Axes>"
            ]
          },
          "metadata": {}
        },
        {
          "output_type": "display_data",
          "data": {
            "text/plain": [
              "<Figure size 1080x720 with 0 Axes>"
            ]
          },
          "metadata": {}
        },
        {
          "output_type": "display_data",
          "data": {
            "text/plain": [
              "<Figure size 1080x720 with 0 Axes>"
            ]
          },
          "metadata": {}
        },
        {
          "output_type": "display_data",
          "data": {
            "text/plain": [
              "<Figure size 1080x720 with 0 Axes>"
            ]
          },
          "metadata": {}
        },
        {
          "output_type": "display_data",
          "data": {
            "text/plain": [
              "<Figure size 1080x720 with 0 Axes>"
            ]
          },
          "metadata": {}
        },
        {
          "output_type": "display_data",
          "data": {
            "text/plain": [
              "<Figure size 1080x720 with 0 Axes>"
            ]
          },
          "metadata": {}
        },
        {
          "output_type": "display_data",
          "data": {
            "text/plain": [
              "<Figure size 1080x720 with 0 Axes>"
            ]
          },
          "metadata": {}
        },
        {
          "output_type": "display_data",
          "data": {
            "text/plain": [
              "<Figure size 1080x720 with 0 Axes>"
            ]
          },
          "metadata": {}
        },
        {
          "output_type": "display_data",
          "data": {
            "text/plain": [
              "<Figure size 1080x720 with 0 Axes>"
            ]
          },
          "metadata": {}
        },
        {
          "output_type": "display_data",
          "data": {
            "text/plain": [
              "<Figure size 1080x720 with 0 Axes>"
            ]
          },
          "metadata": {}
        },
        {
          "output_type": "display_data",
          "data": {
            "text/plain": [
              "<Figure size 1080x720 with 0 Axes>"
            ]
          },
          "metadata": {}
        },
        {
          "output_type": "display_data",
          "data": {
            "text/plain": [
              "<Figure size 1080x720 with 0 Axes>"
            ]
          },
          "metadata": {}
        },
        {
          "output_type": "display_data",
          "data": {
            "text/plain": [
              "<Figure size 1080x720 with 0 Axes>"
            ]
          },
          "metadata": {}
        },
        {
          "output_type": "display_data",
          "data": {
            "text/plain": [
              "<Figure size 1080x720 with 0 Axes>"
            ]
          },
          "metadata": {}
        },
        {
          "output_type": "display_data",
          "data": {
            "text/plain": [
              "<Figure size 1080x720 with 0 Axes>"
            ]
          },
          "metadata": {}
        },
        {
          "output_type": "display_data",
          "data": {
            "text/plain": [
              "<Figure size 1080x720 with 0 Axes>"
            ]
          },
          "metadata": {}
        }
      ]
    },
    {
      "cell_type": "code",
      "metadata": {
        "colab": {
          "base_uri": "https://localhost:8080/"
        },
        "id": "dvRtSTEtXbcW",
        "outputId": "e311393f-46d1-4afc-965d-7f96e203f798"
      },
      "source": [
        " "
      ],
      "execution_count": null,
      "outputs": [
        {
          "output_type": "execute_result",
          "data": {
            "text/plain": [
              "(720, 1280, 3)"
            ]
          },
          "metadata": {},
          "execution_count": 80
        }
      ]
    },
    {
      "cell_type": "code",
      "metadata": {
        "colab": {
          "base_uri": "https://localhost:8080/"
        },
        "id": "6TfrTX3MaPDs",
        "outputId": "ba58baea-a0ab-41e3-a311-0bcae21d1550"
      },
      "source": [
        "int((1280-640)/2)"
      ],
      "execution_count": null,
      "outputs": [
        {
          "output_type": "execute_result",
          "data": {
            "text/plain": [
              "320"
            ]
          },
          "metadata": {},
          "execution_count": 99
        }
      ]
    },
    {
      "cell_type": "code",
      "metadata": {
        "id": "xm9q_PwraPGq"
      },
      "source": [
        ""
      ],
      "execution_count": null,
      "outputs": []
    },
    {
      "cell_type": "code",
      "metadata": {
        "id": "LcorC2rAOvYh"
      },
      "source": [
        ""
      ],
      "execution_count": null,
      "outputs": []
    },
    {
      "cell_type": "code",
      "metadata": {
        "id": "aLY4NPP9OvcF"
      },
      "source": [
        ""
      ],
      "execution_count": null,
      "outputs": []
    },
    {
      "cell_type": "code",
      "metadata": {
        "id": "K05QhGz6Oveg"
      },
      "source": [
        ""
      ],
      "execution_count": null,
      "outputs": []
    },
    {
      "cell_type": "code",
      "metadata": {
        "id": "_n0PYa1IOvhM"
      },
      "source": [
        ""
      ],
      "execution_count": null,
      "outputs": []
    },
    {
      "cell_type": "markdown",
      "metadata": {
        "id": "XldbQwP4itmk"
      },
      "source": [
        "# **Testing**"
      ]
    },
    {
      "cell_type": "code",
      "metadata": {
        "id": "gsYCk3NEjwQT"
      },
      "source": [
        "import math\n",
        "import cv2\n",
        "import numpy as np\n",
        "from time import time\n",
        "import mediapipe as mp\n",
        "import matplotlib.pyplot as plt\n",
        "import glob"
      ],
      "execution_count": null,
      "outputs": []
    },
    {
      "cell_type": "code",
      "metadata": {
        "colab": {
          "base_uri": "https://localhost:8080/"
        },
        "id": "gp4hoCsWjdnd",
        "outputId": "63fbd262-d599-40c9-fdb4-4dbe6d4b5876"
      },
      "source": [
        "!pip install mediapipe"
      ],
      "execution_count": null,
      "outputs": [
        {
          "name": "stdout",
          "output_type": "stream",
          "text": [
            "Collecting mediapipe\n",
            "  Downloading mediapipe-0.8.7.3-cp37-cp37m-manylinux_2_17_x86_64.manylinux2014_x86_64.whl (30.4 MB)\n",
            "\u001b[K     |████████████████████████████████| 30.4 MB 80 kB/s \n",
            "\u001b[?25hRequirement already satisfied: matplotlib in /usr/local/lib/python3.7/dist-packages (from mediapipe) (3.2.2)\n",
            "Requirement already satisfied: numpy in /usr/local/lib/python3.7/dist-packages (from mediapipe) (1.19.5)\n",
            "Requirement already satisfied: wheel in /usr/local/lib/python3.7/dist-packages (from mediapipe) (0.37.0)\n",
            "Requirement already satisfied: attrs>=19.1.0 in /usr/local/lib/python3.7/dist-packages (from mediapipe) (21.2.0)\n",
            "Requirement already satisfied: opencv-contrib-python in /usr/local/lib/python3.7/dist-packages (from mediapipe) (4.1.2.30)\n",
            "Requirement already satisfied: absl-py in /usr/local/lib/python3.7/dist-packages (from mediapipe) (0.12.0)\n",
            "Requirement already satisfied: protobuf>=3.11.4 in /usr/local/lib/python3.7/dist-packages (from mediapipe) (3.17.3)\n",
            "Requirement already satisfied: six in /usr/local/lib/python3.7/dist-packages (from mediapipe) (1.15.0)\n",
            "Requirement already satisfied: kiwisolver>=1.0.1 in /usr/local/lib/python3.7/dist-packages (from matplotlib->mediapipe) (1.3.2)\n",
            "Requirement already satisfied: python-dateutil>=2.1 in /usr/local/lib/python3.7/dist-packages (from matplotlib->mediapipe) (2.8.2)\n",
            "Requirement already satisfied: pyparsing!=2.0.4,!=2.1.2,!=2.1.6,>=2.0.1 in /usr/local/lib/python3.7/dist-packages (from matplotlib->mediapipe) (2.4.7)\n",
            "Requirement already satisfied: cycler>=0.10 in /usr/local/lib/python3.7/dist-packages (from matplotlib->mediapipe) (0.10.0)\n",
            "Installing collected packages: mediapipe\n",
            "Successfully installed mediapipe-0.8.7.3\n"
          ]
        }
      ]
    },
    {
      "cell_type": "code",
      "metadata": {
        "colab": {
          "base_uri": "https://localhost:8080/"
        },
        "id": "vQya20uGjdsC",
        "outputId": "6474fbae-69f8-4162-e6fd-a5a48f48edc2"
      },
      "source": [
        "# Initializing mediapipe pose class.\n",
        "mp_pose = mp.solutions.pose\n",
        "\n",
        "# Setting up the Pose function.\n",
        "pose = mp_pose.Pose(static_image_mode=True, min_detection_confidence=0.3, model_complexity=2)\n",
        "\n",
        "# Initializing mediapipe drawing class, useful for annotation.\n",
        "mp_drawing = mp.solutions.drawing_utils "
      ],
      "execution_count": null,
      "outputs": [
        {
          "name": "stdout",
          "output_type": "stream",
          "text": [
            "Downloading model to /usr/local/lib/python3.7/dist-packages/mediapipe/modules/pose_landmark/pose_landmark_heavy.tflite\n"
          ]
        }
      ]
    },
    {
      "cell_type": "code",
      "metadata": {
        "id": "PxqMgw8djh2G"
      },
      "source": [
        ""
      ],
      "execution_count": null,
      "outputs": []
    },
    {
      "cell_type": "code",
      "metadata": {
        "id": "VMJbR7Bfjcbt"
      },
      "source": [
        "\n",
        "def detectPose(image, pose, display=True):\n",
        "    '''\n",
        "    This function performs pose detection on an image.\n",
        "    Args:\n",
        "        image: The input image with a prominent person whose pose landmarks needs to be detected.\n",
        "        pose: The pose setup function required to perform the pose detection.\n",
        "        display: A boolean value that is if set to true the function displays the original input image, the resultant image, \n",
        "                 and the pose landmarks in 3D plot and returns nothing.\n",
        "    Returns:\n",
        "        output_image: The input image with the detected pose landmarks drawn.\n",
        "        landmarks: A list of detected landmarks converted into their original scale.\n",
        "    '''\n",
        "    \n",
        "    # Create a copy of the input image.\n",
        "    output_image = image.copy()\n",
        "    \n",
        "    # Convert the image from BGR into RGB format.\n",
        "    imageRGB = cv2.cvtColor(image, cv2.COLOR_BGR2RGB)\n",
        "    \n",
        "    # Perform the Pose Detection.\n",
        "    results = pose.process(imageRGB)\n",
        "    \n",
        "    # Retrieve the height and width of the input image.\n",
        "    height, width, _ = image.shape\n",
        "    \n",
        "    # Initialize a list to store the detected landmarks.\n",
        "    landmarks = []\n",
        "    \n",
        "    # Check if any landmarks are detected.\n",
        "    if results.pose_landmarks:\n",
        "    \n",
        "        # Draw Pose landmarks on the output image.\n",
        "        mp_drawing.draw_landmarks(image=output_image, landmark_list=results.pose_landmarks,\n",
        "                                  connections=mp_pose.POSE_CONNECTIONS)\n",
        "        \n",
        "        # Iterate over the detected landmarks.\n",
        "        for landmark in results.pose_landmarks.landmark:\n",
        "            \n",
        "            # Append the landmark into the list.\n",
        "            landmarks.append((int(landmark.x * width), int(landmark.y * height),\n",
        "                                  (landmark.z * width)))\n",
        "    \n",
        "    # Check if the original input image and the resultant image are specified to be displayed.\n",
        "    if display:\n",
        "    \n",
        "        # Display the original input image and the resultant image.\n",
        "        plt.figure(figsize=[5,5])\n",
        "        #plt.subplot(111);plt.imshow(image[:,:,::-1]);plt.title(\"Original Image\");plt.axis('off');\n",
        "        plt.subplot(111);plt.imshow(output_image[:,:,::-1]);plt.title(\"Output Image\");plt.axis('off');\n",
        "        \n",
        "        # Also Plot the Pose landmarks in 3D.\n",
        "        #mp_drawing.plot_landmarks(results.pose_world_landmarks, mp_pose.POSE_CONNECTIONS)\n",
        "        return output_image, landmarks\n",
        "        \n",
        "    # Otherwise\n",
        "    else:\n",
        "        \n",
        "        # Return the output image and the found landmarks.\n",
        "        return output_image, landmarks"
      ],
      "execution_count": null,
      "outputs": []
    },
    {
      "cell_type": "code",
      "metadata": {
        "colab": {
          "base_uri": "https://localhost:8080/",
          "height": 1000
        },
        "id": "O3LNrHDQjxDd",
        "outputId": "69c0b49e-e57f-4a7e-a3bd-dba98e105878"
      },
      "source": [
        " # import the opencv library\n",
        "import cv2\n",
        "from google.colab.patches import cv2_imshow\n",
        "import glob\n",
        "  \n",
        "  \n",
        "# define a video capture object\n",
        "video_path = \"/content/WhatsApp Video 2021-09-30 at 8.02.04 PM.mp4\"\n",
        "\n",
        "\n",
        "vid = cv2.VideoCapture(video_path)\n",
        "\n",
        "count = 1\n",
        "\n",
        "while(True):\n",
        "      \n",
        "    ret, frame = vid.read()\n",
        "    if count < 10:\n",
        "\n",
        "        \n",
        "        image = frame \n",
        "        frame, landmarks = detectPose(frame, pose, display=True)\n",
        "\n",
        "    \n",
        "    count += 1\n",
        "    #hand_coordinate_visited_unvisited = checkPixelPresent(hand_coordinate, labels_path)\n",
        "    #image, accuracy = ColoringVisitedAndUnvisited(image, hand_coordinate_visited_unvisited)\n",
        "\n",
        "\n",
        "\n",
        "    #print(f\"Accuracy of Detection : {accuracy}\")\n",
        "    #print(\"Green color shows detector has visited that area and red color shows detector has not visited that area\")\n",
        "    \n",
        "    #plt.figure(figsize=[10,10])\n",
        "    #plt.imshow(image[:,:,::-1]);plt.title(\"Output Image\");plt.axis('off');plt.show()\n",
        "    #plt.imshow(black_image, cmap=\"gray\");plt.title(\"Output Image\");plt.axis('off');plt.show()\n",
        "\n",
        "  \n",
        "  \n",
        "# After the loop release the cap object\n",
        "vid.release()\n",
        "# Destroy all the windows\n",
        "cv2.destroyAllWindows()"
      ],
      "execution_count": null,
      "outputs": [
        {
          "ename": "KeyboardInterrupt",
          "evalue": "ignored",
          "output_type": "error",
          "traceback": [
            "\u001b[0;31m---------------------------------------------------------------------------\u001b[0m",
            "\u001b[0;31mKeyboardInterrupt\u001b[0m                         Traceback (most recent call last)",
            "\u001b[0;32m<ipython-input-7-3d3bad7646c6>\u001b[0m in \u001b[0;36m<module>\u001b[0;34m()\u001b[0m\n\u001b[1;32m     16\u001b[0m \u001b[0;34m\u001b[0m\u001b[0m\n\u001b[1;32m     17\u001b[0m \u001b[0;34m\u001b[0m\u001b[0m\n\u001b[0;32m---> 18\u001b[0;31m     \u001b[0;32mif\u001b[0m \u001b[0mcount\u001b[0m \u001b[0;34m<\u001b[0m \u001b[0;36m10\u001b[0m\u001b[0;34m:\u001b[0m\u001b[0;34m\u001b[0m\u001b[0;34m\u001b[0m\u001b[0m\n\u001b[0m\u001b[1;32m     19\u001b[0m \u001b[0;34m\u001b[0m\u001b[0m\n\u001b[1;32m     20\u001b[0m         \u001b[0mret\u001b[0m\u001b[0;34m,\u001b[0m \u001b[0mframe\u001b[0m \u001b[0;34m=\u001b[0m \u001b[0mvid\u001b[0m\u001b[0;34m.\u001b[0m\u001b[0mread\u001b[0m\u001b[0;34m(\u001b[0m\u001b[0;34m)\u001b[0m\u001b[0;34m\u001b[0m\u001b[0;34m\u001b[0m\u001b[0m\n",
            "\u001b[0;31mKeyboardInterrupt\u001b[0m: "
          ]
        },
        {
          "data": {
            "image/png": "[encoded data removed]",
            "text/plain": [
              "<Figure size 360x360 with 1 Axes>"
            ]
          },
          "metadata": {},
          "output_type": "display_data"
        },
        {
          "data": {
            "image/png": "[encoded data removed]",
            "text/plain": [
              "<Figure size 360x360 with 1 Axes>"
            ]
          },
          "metadata": {},
          "output_type": "display_data"
        },
        {
          "data": {
            "image/png": "[encoded data removed]",
            "text/plain": [
              "<Figure size 360x360 with 1 Axes>"
            ]
          },
          "metadata": {},
          "output_type": "display_data"
        },
        {
          "name": "stdout",
          "output_type": "stream",
          "text": [
            "Error in callback <function flush_figures at 0x7f2f9cfab320> (for post_execute):\n"
          ]
        },
        {
          "ename": "KeyboardInterrupt",
          "evalue": "ignored",
          "output_type": "error",
          "traceback": [
            "\u001b[0;31m---------------------------------------------------------------------------\u001b[0m",
            "\u001b[0;31mKeyboardInterrupt\u001b[0m                         Traceback (most recent call last)",
            "\u001b[0;32m/usr/local/lib/python3.7/dist-packages/ipykernel/pylab/backend_inline.py\u001b[0m in \u001b[0;36mflush_figures\u001b[0;34m()\u001b[0m\n\u001b[1;32m    115\u001b[0m         \u001b[0;31m# ignore the tracking, just draw and close all figures\u001b[0m\u001b[0;34m\u001b[0m\u001b[0;34m\u001b[0m\u001b[0;34m\u001b[0m\u001b[0m\n\u001b[1;32m    116\u001b[0m         \u001b[0;32mtry\u001b[0m\u001b[0;34m:\u001b[0m\u001b[0;34m\u001b[0m\u001b[0;34m\u001b[0m\u001b[0m\n\u001b[0;32m--> 117\u001b[0;31m             \u001b[0;32mreturn\u001b[0m \u001b[0mshow\u001b[0m\u001b[0;34m(\u001b[0m\u001b[0;32mTrue\u001b[0m\u001b[0;34m)\u001b[0m\u001b[0;34m\u001b[0m\u001b[0;34m\u001b[0m\u001b[0m\n\u001b[0m\u001b[1;32m    118\u001b[0m         \u001b[0;32mexcept\u001b[0m \u001b[0mException\u001b[0m \u001b[0;32mas\u001b[0m \u001b[0me\u001b[0m\u001b[0;34m:\u001b[0m\u001b[0;34m\u001b[0m\u001b[0;34m\u001b[0m\u001b[0m\n\u001b[1;32m    119\u001b[0m             \u001b[0;31m# safely show traceback if in IPython, else raise\u001b[0m\u001b[0;34m\u001b[0m\u001b[0;34m\u001b[0m\u001b[0;34m\u001b[0m\u001b[0m\n",
            "\u001b[0;32m/usr/local/lib/python3.7/dist-packages/ipykernel/pylab/backend_inline.py\u001b[0m in \u001b[0;36mshow\u001b[0;34m(close, block)\u001b[0m\n\u001b[1;32m     37\u001b[0m             display(\n\u001b[1;32m     38\u001b[0m                 \u001b[0mfigure_manager\u001b[0m\u001b[0;34m.\u001b[0m\u001b[0mcanvas\u001b[0m\u001b[0;34m.\u001b[0m\u001b[0mfigure\u001b[0m\u001b[0;34m,\u001b[0m\u001b[0;34m\u001b[0m\u001b[0;34m\u001b[0m\u001b[0m\n\u001b[0;32m---> 39\u001b[0;31m                 \u001b[0mmetadata\u001b[0m\u001b[0;34m=\u001b[0m\u001b[0m_fetch_figure_metadata\u001b[0m\u001b[0;34m(\u001b[0m\u001b[0mfigure_manager\u001b[0m\u001b[0;34m.\u001b[0m\u001b[0mcanvas\u001b[0m\u001b[0;34m.\u001b[0m\u001b[0mfigure\u001b[0m\u001b[0;34m)\u001b[0m\u001b[0;34m\u001b[0m\u001b[0;34m\u001b[0m\u001b[0m\n\u001b[0m\u001b[1;32m     40\u001b[0m             )\n\u001b[1;32m     41\u001b[0m     \u001b[0;32mfinally\u001b[0m\u001b[0;34m:\u001b[0m\u001b[0;34m\u001b[0m\u001b[0;34m\u001b[0m\u001b[0m\n",
            "\u001b[0;32m/usr/local/lib/python3.7/dist-packages/IPython/core/display.py\u001b[0m in \u001b[0;36mdisplay\u001b[0;34m(*objs, **kwargs)\u001b[0m\n\u001b[1;32m    304\u001b[0m             \u001b[0mpublish_display_data\u001b[0m\u001b[0;34m(\u001b[0m\u001b[0mdata\u001b[0m\u001b[0;34m=\u001b[0m\u001b[0mobj\u001b[0m\u001b[0;34m,\u001b[0m \u001b[0mmetadata\u001b[0m\u001b[0;34m=\u001b[0m\u001b[0mmetadata\u001b[0m\u001b[0;34m,\u001b[0m \u001b[0;34m**\u001b[0m\u001b[0mkwargs\u001b[0m\u001b[0;34m)\u001b[0m\u001b[0;34m\u001b[0m\u001b[0;34m\u001b[0m\u001b[0m\n\u001b[1;32m    305\u001b[0m         \u001b[0;32melse\u001b[0m\u001b[0;34m:\u001b[0m\u001b[0;34m\u001b[0m\u001b[0;34m\u001b[0m\u001b[0m\n\u001b[0;32m--> 306\u001b[0;31m             \u001b[0mformat_dict\u001b[0m\u001b[0;34m,\u001b[0m \u001b[0mmd_dict\u001b[0m \u001b[0;34m=\u001b[0m \u001b[0mformat\u001b[0m\u001b[0;34m(\u001b[0m\u001b[0mobj\u001b[0m\u001b[0;34m,\u001b[0m \u001b[0minclude\u001b[0m\u001b[0;34m=\u001b[0m\u001b[0minclude\u001b[0m\u001b[0;34m,\u001b[0m \u001b[0mexclude\u001b[0m\u001b[0;34m=\u001b[0m\u001b[0mexclude\u001b[0m\u001b[0;34m)\u001b[0m\u001b[0;34m\u001b[0m\u001b[0;34m\u001b[0m\u001b[0m\n\u001b[0m\u001b[1;32m    307\u001b[0m             \u001b[0;32mif\u001b[0m \u001b[0;32mnot\u001b[0m \u001b[0mformat_dict\u001b[0m\u001b[0;34m:\u001b[0m\u001b[0;34m\u001b[0m\u001b[0;34m\u001b[0m\u001b[0m\n\u001b[1;32m    308\u001b[0m                 \u001b[0;31m# nothing to display (e.g. _ipython_display_ took over)\u001b[0m\u001b[0;34m\u001b[0m\u001b[0;34m\u001b[0m\u001b[0;34m\u001b[0m\u001b[0m\n",
            "\u001b[0;32m/usr/local/lib/python3.7/dist-packages/IPython/core/formatters.py\u001b[0m in \u001b[0;36mformat\u001b[0;34m(self, obj, include, exclude)\u001b[0m\n\u001b[1;32m    171\u001b[0m             \u001b[0mmd\u001b[0m \u001b[0;34m=\u001b[0m \u001b[0;32mNone\u001b[0m\u001b[0;34m\u001b[0m\u001b[0;34m\u001b[0m\u001b[0m\n\u001b[1;32m    172\u001b[0m             \u001b[0;32mtry\u001b[0m\u001b[0;34m:\u001b[0m\u001b[0;34m\u001b[0m\u001b[0;34m\u001b[0m\u001b[0m\n\u001b[0;32m--> 173\u001b[0;31m                 \u001b[0mdata\u001b[0m \u001b[0;34m=\u001b[0m \u001b[0mformatter\u001b[0m\u001b[0;34m(\u001b[0m\u001b[0mobj\u001b[0m\u001b[0;34m)\u001b[0m\u001b[0;34m\u001b[0m\u001b[0;34m\u001b[0m\u001b[0m\n\u001b[0m\u001b[1;32m    174\u001b[0m             \u001b[0;32mexcept\u001b[0m\u001b[0;34m:\u001b[0m\u001b[0;34m\u001b[0m\u001b[0;34m\u001b[0m\u001b[0m\n\u001b[1;32m    175\u001b[0m                 \u001b[0;31m# FIXME: log the exception\u001b[0m\u001b[0;34m\u001b[0m\u001b[0;34m\u001b[0m\u001b[0;34m\u001b[0m\u001b[0m\n",
            "\u001b[0;32m<decorator-gen-2>\u001b[0m in \u001b[0;36m__call__\u001b[0;34m(self, obj)\u001b[0m\n",
            "\u001b[0;32m/usr/local/lib/python3.7/dist-packages/IPython/core/formatters.py\u001b[0m in \u001b[0;36mcatch_format_error\u001b[0;34m(method, self, *args, **kwargs)\u001b[0m\n\u001b[1;32m    215\u001b[0m     \u001b[0;34m\"\"\"show traceback on failed format call\"\"\"\u001b[0m\u001b[0;34m\u001b[0m\u001b[0;34m\u001b[0m\u001b[0m\n\u001b[1;32m    216\u001b[0m     \u001b[0;32mtry\u001b[0m\u001b[0;34m:\u001b[0m\u001b[0;34m\u001b[0m\u001b[0;34m\u001b[0m\u001b[0m\n\u001b[0;32m--> 217\u001b[0;31m         \u001b[0mr\u001b[0m \u001b[0;34m=\u001b[0m \u001b[0mmethod\u001b[0m\u001b[0;34m(\u001b[0m\u001b[0mself\u001b[0m\u001b[0;34m,\u001b[0m \u001b[0;34m*\u001b[0m\u001b[0margs\u001b[0m\u001b[0;34m,\u001b[0m \u001b[0;34m**\u001b[0m\u001b[0mkwargs\u001b[0m\u001b[0;34m)\u001b[0m\u001b[0;34m\u001b[0m\u001b[0;34m\u001b[0m\u001b[0m\n\u001b[0m\u001b[1;32m    218\u001b[0m     \u001b[0;32mexcept\u001b[0m \u001b[0mNotImplementedError\u001b[0m\u001b[0;34m:\u001b[0m\u001b[0;34m\u001b[0m\u001b[0;34m\u001b[0m\u001b[0m\n\u001b[1;32m    219\u001b[0m         \u001b[0;31m# don't warn on NotImplementedErrors\u001b[0m\u001b[0;34m\u001b[0m\u001b[0;34m\u001b[0m\u001b[0;34m\u001b[0m\u001b[0m\n",
            "\u001b[0;32m/usr/local/lib/python3.7/dist-packages/IPython/core/formatters.py\u001b[0m in \u001b[0;36m__call__\u001b[0;34m(self, obj)\u001b[0m\n\u001b[1;32m    332\u001b[0m                 \u001b[0;32mpass\u001b[0m\u001b[0;34m\u001b[0m\u001b[0;34m\u001b[0m\u001b[0m\n\u001b[1;32m    333\u001b[0m             \u001b[0;32melse\u001b[0m\u001b[0;34m:\u001b[0m\u001b[0;34m\u001b[0m\u001b[0;34m\u001b[0m\u001b[0m\n\u001b[0;32m--> 334\u001b[0;31m                 \u001b[0;32mreturn\u001b[0m \u001b[0mprinter\u001b[0m\u001b[0;34m(\u001b[0m\u001b[0mobj\u001b[0m\u001b[0;34m)\u001b[0m\u001b[0;34m\u001b[0m\u001b[0;34m\u001b[0m\u001b[0m\n\u001b[0m\u001b[1;32m    335\u001b[0m             \u001b[0;31m# Finally look for special method names\u001b[0m\u001b[0;34m\u001b[0m\u001b[0;34m\u001b[0m\u001b[0;34m\u001b[0m\u001b[0m\n\u001b[1;32m    336\u001b[0m             \u001b[0mmethod\u001b[0m \u001b[0;34m=\u001b[0m \u001b[0mget_real_method\u001b[0m\u001b[0;34m(\u001b[0m\u001b[0mobj\u001b[0m\u001b[0;34m,\u001b[0m \u001b[0mself\u001b[0m\u001b[0;34m.\u001b[0m\u001b[0mprint_method\u001b[0m\u001b[0;34m)\u001b[0m\u001b[0;34m\u001b[0m\u001b[0;34m\u001b[0m\u001b[0m\n",
            "\u001b[0;32m/usr/local/lib/python3.7/dist-packages/IPython/core/pylabtools.py\u001b[0m in \u001b[0;36m<lambda>\u001b[0;34m(fig)\u001b[0m\n\u001b[1;32m    239\u001b[0m \u001b[0;34m\u001b[0m\u001b[0m\n\u001b[1;32m    240\u001b[0m     \u001b[0;32mif\u001b[0m \u001b[0;34m'png'\u001b[0m \u001b[0;32min\u001b[0m \u001b[0mformats\u001b[0m\u001b[0;34m:\u001b[0m\u001b[0;34m\u001b[0m\u001b[0;34m\u001b[0m\u001b[0m\n\u001b[0;32m--> 241\u001b[0;31m         \u001b[0mpng_formatter\u001b[0m\u001b[0;34m.\u001b[0m\u001b[0mfor_type\u001b[0m\u001b[0;34m(\u001b[0m\u001b[0mFigure\u001b[0m\u001b[0;34m,\u001b[0m \u001b[0;32mlambda\u001b[0m \u001b[0mfig\u001b[0m\u001b[0;34m:\u001b[0m \u001b[0mprint_figure\u001b[0m\u001b[0;34m(\u001b[0m\u001b[0mfig\u001b[0m\u001b[0;34m,\u001b[0m \u001b[0;34m'png'\u001b[0m\u001b[0;34m,\u001b[0m \u001b[0;34m**\u001b[0m\u001b[0mkwargs\u001b[0m\u001b[0;34m)\u001b[0m\u001b[0;34m)\u001b[0m\u001b[0;34m\u001b[0m\u001b[0;34m\u001b[0m\u001b[0m\n\u001b[0m\u001b[1;32m    242\u001b[0m     \u001b[0;32mif\u001b[0m \u001b[0;34m'retina'\u001b[0m \u001b[0;32min\u001b[0m \u001b[0mformats\u001b[0m \u001b[0;32mor\u001b[0m \u001b[0;34m'png2x'\u001b[0m \u001b[0;32min\u001b[0m \u001b[0mformats\u001b[0m\u001b[0;34m:\u001b[0m\u001b[0;34m\u001b[0m\u001b[0;34m\u001b[0m\u001b[0m\n\u001b[1;32m    243\u001b[0m         \u001b[0mpng_formatter\u001b[0m\u001b[0;34m.\u001b[0m\u001b[0mfor_type\u001b[0m\u001b[0;34m(\u001b[0m\u001b[0mFigure\u001b[0m\u001b[0;34m,\u001b[0m \u001b[0;32mlambda\u001b[0m \u001b[0mfig\u001b[0m\u001b[0;34m:\u001b[0m \u001b[0mretina_figure\u001b[0m\u001b[0;34m(\u001b[0m\u001b[0mfig\u001b[0m\u001b[0;34m,\u001b[0m \u001b[0;34m**\u001b[0m\u001b[0mkwargs\u001b[0m\u001b[0;34m)\u001b[0m\u001b[0;34m)\u001b[0m\u001b[0;34m\u001b[0m\u001b[0;34m\u001b[0m\u001b[0m\n",
            "\u001b[0;32m/usr/local/lib/python3.7/dist-packages/IPython/core/pylabtools.py\u001b[0m in \u001b[0;36mprint_figure\u001b[0;34m(fig, fmt, bbox_inches, **kwargs)\u001b[0m\n\u001b[1;32m    123\u001b[0m \u001b[0;34m\u001b[0m\u001b[0m\n\u001b[1;32m    124\u001b[0m     \u001b[0mbytes_io\u001b[0m \u001b[0;34m=\u001b[0m \u001b[0mBytesIO\u001b[0m\u001b[0;34m(\u001b[0m\u001b[0;34m)\u001b[0m\u001b[0;34m\u001b[0m\u001b[0;34m\u001b[0m\u001b[0m\n\u001b[0;32m--> 125\u001b[0;31m     \u001b[0mfig\u001b[0m\u001b[0;34m.\u001b[0m\u001b[0mcanvas\u001b[0m\u001b[0;34m.\u001b[0m\u001b[0mprint_figure\u001b[0m\u001b[0;34m(\u001b[0m\u001b[0mbytes_io\u001b[0m\u001b[0;34m,\u001b[0m \u001b[0;34m**\u001b[0m\u001b[0mkw\u001b[0m\u001b[0;34m)\u001b[0m\u001b[0;34m\u001b[0m\u001b[0;34m\u001b[0m\u001b[0m\n\u001b[0m\u001b[1;32m    126\u001b[0m     \u001b[0mdata\u001b[0m \u001b[0;34m=\u001b[0m \u001b[0mbytes_io\u001b[0m\u001b[0;34m.\u001b[0m\u001b[0mgetvalue\u001b[0m\u001b[0;34m(\u001b[0m\u001b[0;34m)\u001b[0m\u001b[0;34m\u001b[0m\u001b[0;34m\u001b[0m\u001b[0m\n\u001b[1;32m    127\u001b[0m     \u001b[0;32mif\u001b[0m \u001b[0mfmt\u001b[0m \u001b[0;34m==\u001b[0m \u001b[0;34m'svg'\u001b[0m\u001b[0;34m:\u001b[0m\u001b[0;34m\u001b[0m\u001b[0;34m\u001b[0m\u001b[0m\n",
            "\u001b[0;32m/usr/local/lib/python3.7/dist-packages/matplotlib/backend_bases.py\u001b[0m in \u001b[0;36mprint_figure\u001b[0;34m(self, filename, dpi, facecolor, edgecolor, orientation, format, bbox_inches, **kwargs)\u001b[0m\n\u001b[1;32m   2124\u001b[0m                     \u001b[0morientation\u001b[0m\u001b[0;34m=\u001b[0m\u001b[0morientation\u001b[0m\u001b[0;34m,\u001b[0m\u001b[0;34m\u001b[0m\u001b[0;34m\u001b[0m\u001b[0m\n\u001b[1;32m   2125\u001b[0m                     \u001b[0mbbox_inches_restore\u001b[0m\u001b[0;34m=\u001b[0m\u001b[0m_bbox_inches_restore\u001b[0m\u001b[0;34m,\u001b[0m\u001b[0;34m\u001b[0m\u001b[0;34m\u001b[0m\u001b[0m\n\u001b[0;32m-> 2126\u001b[0;31m                     **kwargs)\n\u001b[0m\u001b[1;32m   2127\u001b[0m             \u001b[0;32mfinally\u001b[0m\u001b[0;34m:\u001b[0m\u001b[0;34m\u001b[0m\u001b[0;34m\u001b[0m\u001b[0m\n\u001b[1;32m   2128\u001b[0m                 \u001b[0;32mif\u001b[0m \u001b[0mbbox_inches\u001b[0m \u001b[0;32mand\u001b[0m \u001b[0mrestore_bbox\u001b[0m\u001b[0;34m:\u001b[0m\u001b[0;34m\u001b[0m\u001b[0;34m\u001b[0m\u001b[0m\n",
            "\u001b[0;32m/usr/local/lib/python3.7/dist-packages/matplotlib/backends/backend_agg.py\u001b[0m in \u001b[0;36mprint_png\u001b[0;34m(self, filename_or_obj, metadata, pil_kwargs, *args, **kwargs)\u001b[0m\n\u001b[1;32m    512\u001b[0m         }\n\u001b[1;32m    513\u001b[0m \u001b[0;34m\u001b[0m\u001b[0m\n\u001b[0;32m--> 514\u001b[0;31m         \u001b[0mFigureCanvasAgg\u001b[0m\u001b[0;34m.\u001b[0m\u001b[0mdraw\u001b[0m\u001b[0;34m(\u001b[0m\u001b[0mself\u001b[0m\u001b[0;34m)\u001b[0m\u001b[0;34m\u001b[0m\u001b[0;34m\u001b[0m\u001b[0m\n\u001b[0m\u001b[1;32m    515\u001b[0m         \u001b[0;32mif\u001b[0m \u001b[0mpil_kwargs\u001b[0m \u001b[0;32mis\u001b[0m \u001b[0;32mnot\u001b[0m \u001b[0;32mNone\u001b[0m\u001b[0;34m:\u001b[0m\u001b[0;34m\u001b[0m\u001b[0;34m\u001b[0m\u001b[0m\n\u001b[1;32m    516\u001b[0m             \u001b[0;32mfrom\u001b[0m \u001b[0mPIL\u001b[0m \u001b[0;32mimport\u001b[0m \u001b[0mImage\u001b[0m\u001b[0;34m\u001b[0m\u001b[0;34m\u001b[0m\u001b[0m\n",
            "\u001b[0;32m/usr/local/lib/python3.7/dist-packages/matplotlib/backends/backend_agg.py\u001b[0m in \u001b[0;36mdraw\u001b[0;34m(self)\u001b[0m\n\u001b[1;32m    391\u001b[0m              (self.toolbar._wait_cursor_for_draw_cm() if self.toolbar\n\u001b[1;32m    392\u001b[0m               else nullcontext()):\n\u001b[0;32m--> 393\u001b[0;31m             \u001b[0mself\u001b[0m\u001b[0;34m.\u001b[0m\u001b[0mfigure\u001b[0m\u001b[0;34m.\u001b[0m\u001b[0mdraw\u001b[0m\u001b[0;34m(\u001b[0m\u001b[0mself\u001b[0m\u001b[0;34m.\u001b[0m\u001b[0mrenderer\u001b[0m\u001b[0;34m)\u001b[0m\u001b[0;34m\u001b[0m\u001b[0;34m\u001b[0m\u001b[0m\n\u001b[0m\u001b[1;32m    394\u001b[0m             \u001b[0;31m# A GUI class may be need to update a window using this draw, so\u001b[0m\u001b[0;34m\u001b[0m\u001b[0;34m\u001b[0m\u001b[0;34m\u001b[0m\u001b[0m\n\u001b[1;32m    395\u001b[0m             \u001b[0;31m# don't forget to call the superclass.\u001b[0m\u001b[0;34m\u001b[0m\u001b[0;34m\u001b[0m\u001b[0;34m\u001b[0m\u001b[0m\n",
            "\u001b[0;32m/usr/local/lib/python3.7/dist-packages/matplotlib/artist.py\u001b[0m in \u001b[0;36mdraw_wrapper\u001b[0;34m(artist, renderer, *args, **kwargs)\u001b[0m\n\u001b[1;32m     36\u001b[0m                 \u001b[0mrenderer\u001b[0m\u001b[0;34m.\u001b[0m\u001b[0mstart_filter\u001b[0m\u001b[0;34m(\u001b[0m\u001b[0;34m)\u001b[0m\u001b[0;34m\u001b[0m\u001b[0;34m\u001b[0m\u001b[0m\n\u001b[1;32m     37\u001b[0m \u001b[0;34m\u001b[0m\u001b[0m\n\u001b[0;32m---> 38\u001b[0;31m             \u001b[0;32mreturn\u001b[0m \u001b[0mdraw\u001b[0m\u001b[0;34m(\u001b[0m\u001b[0martist\u001b[0m\u001b[0;34m,\u001b[0m \u001b[0mrenderer\u001b[0m\u001b[0;34m,\u001b[0m \u001b[0;34m*\u001b[0m\u001b[0margs\u001b[0m\u001b[0;34m,\u001b[0m \u001b[0;34m**\u001b[0m\u001b[0mkwargs\u001b[0m\u001b[0;34m)\u001b[0m\u001b[0;34m\u001b[0m\u001b[0;34m\u001b[0m\u001b[0m\n\u001b[0m\u001b[1;32m     39\u001b[0m         \u001b[0;32mfinally\u001b[0m\u001b[0;34m:\u001b[0m\u001b[0;34m\u001b[0m\u001b[0;34m\u001b[0m\u001b[0m\n\u001b[1;32m     40\u001b[0m             \u001b[0;32mif\u001b[0m \u001b[0martist\u001b[0m\u001b[0;34m.\u001b[0m\u001b[0mget_agg_filter\u001b[0m\u001b[0;34m(\u001b[0m\u001b[0;34m)\u001b[0m \u001b[0;32mis\u001b[0m \u001b[0;32mnot\u001b[0m \u001b[0;32mNone\u001b[0m\u001b[0;34m:\u001b[0m\u001b[0;34m\u001b[0m\u001b[0;34m\u001b[0m\u001b[0m\n",
            "\u001b[0;32m/usr/local/lib/python3.7/dist-packages/matplotlib/figure.py\u001b[0m in \u001b[0;36mdraw\u001b[0;34m(self, renderer)\u001b[0m\n\u001b[1;32m   1708\u001b[0m             \u001b[0;32mif\u001b[0m \u001b[0mlocator\u001b[0m\u001b[0;34m:\u001b[0m\u001b[0;34m\u001b[0m\u001b[0;34m\u001b[0m\u001b[0m\n\u001b[1;32m   1709\u001b[0m                 \u001b[0mpos\u001b[0m \u001b[0;34m=\u001b[0m \u001b[0mlocator\u001b[0m\u001b[0;34m(\u001b[0m\u001b[0max\u001b[0m\u001b[0;34m,\u001b[0m \u001b[0mrenderer\u001b[0m\u001b[0;34m)\u001b[0m\u001b[0;34m\u001b[0m\u001b[0;34m\u001b[0m\u001b[0m\n\u001b[0;32m-> 1710\u001b[0;31m                 \u001b[0max\u001b[0m\u001b[0;34m.\u001b[0m\u001b[0mapply_aspect\u001b[0m\u001b[0;34m(\u001b[0m\u001b[0mpos\u001b[0m\u001b[0;34m)\u001b[0m\u001b[0;34m\u001b[0m\u001b[0;34m\u001b[0m\u001b[0m\n\u001b[0m\u001b[1;32m   1711\u001b[0m             \u001b[0;32melse\u001b[0m\u001b[0;34m:\u001b[0m\u001b[0;34m\u001b[0m\u001b[0;34m\u001b[0m\u001b[0m\n\u001b[1;32m   1712\u001b[0m                 \u001b[0max\u001b[0m\u001b[0;34m.\u001b[0m\u001b[0mapply_aspect\u001b[0m\u001b[0;34m(\u001b[0m\u001b[0;34m)\u001b[0m\u001b[0;34m\u001b[0m\u001b[0;34m\u001b[0m\u001b[0m\n",
            "\u001b[0;32m/usr/local/lib/python3.7/dist-packages/matplotlib/axes/_base.py\u001b[0m in \u001b[0;36mapply_aspect\u001b[0;34m(self, position)\u001b[0m\n\u001b[1;32m   1464\u001b[0m \u001b[0;34m\u001b[0m\u001b[0m\n\u001b[1;32m   1465\u001b[0m         \u001b[0;32mif\u001b[0m \u001b[0maspect\u001b[0m \u001b[0;34m==\u001b[0m \u001b[0;34m'auto'\u001b[0m\u001b[0;34m:\u001b[0m\u001b[0;34m\u001b[0m\u001b[0;34m\u001b[0m\u001b[0m\n\u001b[0;32m-> 1466\u001b[0;31m             \u001b[0mself\u001b[0m\u001b[0;34m.\u001b[0m\u001b[0m_set_position\u001b[0m\u001b[0;34m(\u001b[0m\u001b[0mposition\u001b[0m\u001b[0;34m,\u001b[0m \u001b[0mwhich\u001b[0m\u001b[0;34m=\u001b[0m\u001b[0;34m'active'\u001b[0m\u001b[0;34m)\u001b[0m\u001b[0;34m\u001b[0m\u001b[0;34m\u001b[0m\u001b[0m\n\u001b[0m\u001b[1;32m   1467\u001b[0m             \u001b[0;32mreturn\u001b[0m\u001b[0;34m\u001b[0m\u001b[0;34m\u001b[0m\u001b[0m\n\u001b[1;32m   1468\u001b[0m \u001b[0;34m\u001b[0m\u001b[0m\n",
            "\u001b[0;32m/usr/local/lib/python3.7/dist-packages/matplotlib/axes/_base.py\u001b[0m in \u001b[0;36m_set_position\u001b[0;34m(self, pos, which)\u001b[0m\n\u001b[1;32m    868\u001b[0m         \u001b[0;32mfor\u001b[0m \u001b[0max\u001b[0m \u001b[0;32min\u001b[0m \u001b[0mself\u001b[0m\u001b[0;34m.\u001b[0m\u001b[0m_twinned_axes\u001b[0m\u001b[0;34m.\u001b[0m\u001b[0mget_siblings\u001b[0m\u001b[0;34m(\u001b[0m\u001b[0mself\u001b[0m\u001b[0;34m)\u001b[0m\u001b[0;34m:\u001b[0m\u001b[0;34m\u001b[0m\u001b[0;34m\u001b[0m\u001b[0m\n\u001b[1;32m    869\u001b[0m             \u001b[0;32mif\u001b[0m \u001b[0mwhich\u001b[0m \u001b[0;32min\u001b[0m \u001b[0;34m(\u001b[0m\u001b[0;34m'both'\u001b[0m\u001b[0;34m,\u001b[0m \u001b[0;34m'active'\u001b[0m\u001b[0;34m)\u001b[0m\u001b[0;34m:\u001b[0m\u001b[0;34m\u001b[0m\u001b[0;34m\u001b[0m\u001b[0m\n\u001b[0;32m--> 870\u001b[0;31m                 \u001b[0max\u001b[0m\u001b[0;34m.\u001b[0m\u001b[0m_position\u001b[0m\u001b[0;34m.\u001b[0m\u001b[0mset\u001b[0m\u001b[0;34m(\u001b[0m\u001b[0mpos\u001b[0m\u001b[0;34m)\u001b[0m\u001b[0;34m\u001b[0m\u001b[0;34m\u001b[0m\u001b[0m\n\u001b[0m\u001b[1;32m    871\u001b[0m             \u001b[0;32mif\u001b[0m \u001b[0mwhich\u001b[0m \u001b[0;32min\u001b[0m \u001b[0;34m(\u001b[0m\u001b[0;34m'both'\u001b[0m\u001b[0;34m,\u001b[0m \u001b[0;34m'original'\u001b[0m\u001b[0;34m)\u001b[0m\u001b[0;34m:\u001b[0m\u001b[0;34m\u001b[0m\u001b[0;34m\u001b[0m\u001b[0m\n\u001b[1;32m    872\u001b[0m                 \u001b[0max\u001b[0m\u001b[0;34m.\u001b[0m\u001b[0m_originalPosition\u001b[0m\u001b[0;34m.\u001b[0m\u001b[0mset\u001b[0m\u001b[0;34m(\u001b[0m\u001b[0mpos\u001b[0m\u001b[0;34m)\u001b[0m\u001b[0;34m\u001b[0m\u001b[0;34m\u001b[0m\u001b[0m\n",
            "\u001b[0;32m/usr/local/lib/python3.7/dist-packages/matplotlib/transforms.py\u001b[0m in \u001b[0;36mset\u001b[0;34m(self, other)\u001b[0m\n\u001b[1;32m    959\u001b[0m         \u001b[0mSet\u001b[0m \u001b[0mthis\u001b[0m \u001b[0mbounding\u001b[0m \u001b[0mbox\u001b[0m \u001b[0;32mfrom\u001b[0m \u001b[0mthe\u001b[0m \u001b[0;34m\"frozen\"\u001b[0m \u001b[0mbounds\u001b[0m \u001b[0mof\u001b[0m \u001b[0manother\u001b[0m\u001b[0;31m \u001b[0m\u001b[0;31m`\u001b[0m\u001b[0mBbox\u001b[0m\u001b[0;31m`\u001b[0m\u001b[0;34m.\u001b[0m\u001b[0;34m\u001b[0m\u001b[0;34m\u001b[0m\u001b[0m\n\u001b[1;32m    960\u001b[0m         \"\"\"\n\u001b[0;32m--> 961\u001b[0;31m         \u001b[0;32mif\u001b[0m \u001b[0mnp\u001b[0m\u001b[0;34m.\u001b[0m\u001b[0many\u001b[0m\u001b[0;34m(\u001b[0m\u001b[0mself\u001b[0m\u001b[0;34m.\u001b[0m\u001b[0m_points\u001b[0m \u001b[0;34m!=\u001b[0m \u001b[0mother\u001b[0m\u001b[0;34m.\u001b[0m\u001b[0mget_points\u001b[0m\u001b[0;34m(\u001b[0m\u001b[0;34m)\u001b[0m\u001b[0;34m)\u001b[0m\u001b[0;34m:\u001b[0m\u001b[0;34m\u001b[0m\u001b[0;34m\u001b[0m\u001b[0m\n\u001b[0m\u001b[1;32m    962\u001b[0m             \u001b[0mself\u001b[0m\u001b[0;34m.\u001b[0m\u001b[0m_points\u001b[0m \u001b[0;34m=\u001b[0m \u001b[0mother\u001b[0m\u001b[0;34m.\u001b[0m\u001b[0mget_points\u001b[0m\u001b[0;34m(\u001b[0m\u001b[0;34m)\u001b[0m\u001b[0;34m\u001b[0m\u001b[0;34m\u001b[0m\u001b[0m\n\u001b[1;32m    963\u001b[0m             \u001b[0mself\u001b[0m\u001b[0;34m.\u001b[0m\u001b[0minvalidate\u001b[0m\u001b[0;34m(\u001b[0m\u001b[0;34m)\u001b[0m\u001b[0;34m\u001b[0m\u001b[0;34m\u001b[0m\u001b[0m\n",
            "\u001b[0;31mKeyboardInterrupt\u001b[0m: "
          ]
        }
      ]
    },
    {
      "cell_type": "code",
      "metadata": {
        "id": "fDvuFIbaj9rE"
      },
      "source": [
        ""
      ],
      "execution_count": null,
      "outputs": []
    },
    {
      "cell_type": "markdown",
      "metadata": {
        "id": "gllPiDoSAJOW"
      },
      "source": [
        "# **Yolo Testing**"
      ]
    },
    {
      "cell_type": "code",
      "metadata": {
        "id": "ubt3CPyIRqwV"
      },
      "source": [
        "import cv2\n",
        "import mediapipe as mp\n",
        "import time\n",
        "\n",
        "mp_objectron = mp.solutions.objectron\n",
        "mp_drawing = mp.solutions.drawing_utils\n",
        "\n",
        "cap = cv2.VideoCapture(0)\n",
        "\n",
        "\n",
        "with mp_objectron.Objectron(static_image_mode = False,\n",
        "                            max_num_objects = 2,\n",
        "                            min_tracking_confidence = 0.8,\n",
        "                            min_detection_confidence=0.7,\n",
        "                            model_name = \"Table Tennis Racket Detection\") as objectron:\n",
        "\n",
        "    while cap.isOpened():\n",
        "\n",
        "        success, image = cap.read()\n",
        "\n",
        "        start = time.time()\n",
        "\n",
        "\n",
        "        # Convert the BGR image to RGB\n",
        "        image = cv2.cvtColor(image, cv2.COLOR_BGR2RGB)\n",
        "\n",
        "        # Process the image and find faces\n",
        "        image.flags.writeable = False\n",
        "        results = objectron.process(image)\n",
        "        \n",
        "        # Convert the image color back so it can be displayed\n",
        "        image.flags.writeable = True\n",
        "        image = cv2.cvtColor(image, cv2.COLOR_RGB2BGR)\n",
        "\n",
        "\n",
        "        if results.detected_objects:\n",
        "            for detected_object in results.detected_objects:\n",
        "                mp_drawing.draw_landmarks(image, detected_object.landmarks_2d, mp_objectron.BOX_CONNECTIONS)\n",
        "                mp_drawing.draw_axis(image, detected_object.rotation, detected_object.translation)\n",
        "\n",
        "            for id, detection in enumerate(results.detections):\n",
        "                mp_draw.draw_detection(image, detection)\n",
        "                print(id, detection)\n",
        "\n",
        "                bBox = detection.location_data.relative_bounding_box\n",
        "\n",
        "                h, w, c = image.shape\n",
        "\n",
        "                boundBox = int(bBox.xmin * w), int(bBox.ymin * h), int(bBox.width * w), int(bBox.height * h)\n",
        "\n",
        "                cv2.putText(image, f'{int(detection.score[0]*100)}%', (boundBox[0], boundBox[1] - 20), cv2.FONT_HERSHEY_SIMPLEX, 2, (0,255,0), 2)\n",
        "\n",
        "\n",
        "\n",
        "\n",
        "\n",
        "        end = time.time()\n",
        "        totalTime = end - start\n",
        "\n",
        "        fps = 1 / totalTime\n",
        "        print(\"FPS: \", fps)\n",
        "\n",
        "        cv2.putText(image, f'FPS: {int(fps)}', (20,70), cv2.FONT_HERSHEY_SIMPLEX, 1.5, (0,255,0), 2)\n",
        "\n",
        "        cv2.imshow('Face Detection', image)\n",
        "\n",
        "        if cv2.waitKey(5) & 0xFF == 27:\n",
        "            break\n"
      ],
      "execution_count": null,
      "outputs": []
    },
    {
      "cell_type": "code",
      "metadata": {
        "id": "fwrSX44dRqzd"
      },
      "source": [
        ""
      ],
      "execution_count": null,
      "outputs": []
    },
    {
      "cell_type": "code",
      "metadata": {
        "id": "LsIZKNwkRq4e"
      },
      "source": [
        ""
      ],
      "execution_count": null,
      "outputs": []
    }
  ]
}